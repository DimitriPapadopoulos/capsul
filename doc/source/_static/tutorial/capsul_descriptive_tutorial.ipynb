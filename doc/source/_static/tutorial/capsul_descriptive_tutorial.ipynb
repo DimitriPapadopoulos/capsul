{
 "metadata": {
  "name": "",
  "signature": "sha256:53f5ffbbccdd5d7a405c5ed7ee4926c4c2b9abc3d08f68cbd0e9e37db9ce2c78",
  "kernelspec": {
    "name": "python2",
    "display_name": "Python 2",
    "language": "python"
  },
  "language_info": {
    "mimetype": "text/x-python",
    "nbconvert_exporter": "python",
    "name": "python",
    "pygments_lexer": "ipython2",
    "version": "2.7.12",
    "file_extension": ".py",
    "codemirror_mode": {
      "version": 2,
      "name": "ipython"
    }
  }
 },
 "nbformat": 3,
 "nbformat_minor": 0,
 "worksheets": [
  {
   "cells": [
    {
     "cell_type": "markdown",
     "metadata": {},
     "source": [
      "<h1>Capsul: Collaborative Analysis Platform : Simple, Unifying, Lean</h1>\n",
      "<div style=\"text-align: center\">Credit: Antoine Grigis</div>\n",
      "\n",
      "Capsul is a simple and efficient Python tool that aims to organize a set of processings.\n",
      "It is accessible to everybody, and is reusable in various contexts.\n",
      "The project is hosted on github: https://github.com/neurospin/capsul.<br><br>\n",
      "\n",
      "<big>Definitions</big>\n",
      "\n",
      "<ul style=\"list-style-type:disc;\">\n",
      "<li>A <b>Process</b> is a processing that can derived directly from a Python function and that can be used as a building block of a pipeline.</li>\n",
      "<li>A <b>Pipeline</b> is a serie of connected processes.</li>\n",
      "</ul><br>\n",
      "\n",
      "<big>First check</big>\n",
      "\n",
      "In order to test if capsul is installed on your machine, you can ask the the Capsul version:"
     ]
    },
    {
     "cell_type": "code",
     "collapsed": false,
     "input": [
      "import capsul\n",
      "print capsul.__version__"
     ],
     "language": "python",
     "metadata": {},
     "outputs": [
      {
       "output_type": "stream",
       "stream": "stdout",
       "text": [
        "2.0.0\n"
       ]
      }
     ],
     "prompt_number": 1
    },
    {
     "cell_type": "markdown",
     "metadata": {},
     "source": [
      "<h2>Use a function as a building block</h2>\n",
      "\n",
      "It is possible to convert a function in Process and thus use it as a building block of a pipeline. In the following example we will use the 'a_function_to_wrap' test function:\n",
      "\n"
     ]
    },
    {
     "cell_type": "code",
     "collapsed": false,
     "input": [
      "import inspect\n",
      "from capsul.process.test.test_load_from_description import a_function_to_wrap\n",
      "\n",
      "print \"\".join(inspect.getsourcelines(a_function_to_wrap)[0])\n"
     ],
     "language": "python",
     "metadata": {},
     "outputs": [
      {
       "output_type": "stream",
       "stream": "stdout",
       "text": [
        "def a_function_to_wrap(fname, directory, value, enum, list_of_str):\n",
        "    \"\"\" A dummy fucntion that just print all its parameters.\n",
        "\n",
        "    <process>\n",
        "        <return name=\"string\" type=\"string\" doc=\"test\" />\n",
        "        <input name=\"fname\" type=\"file\" doc=\"test\" />\n",
        "        <input name=\"directory\" type=\"directory\" doc=\"test\" />\n",
        "        <input name=\"value\" type=\"float\" doc=\"test\" />\n",
        "        <input name=\"enum\" type=\"string\" doc=\"test\" />\n",
        "        <input name=\"list_of_str\" type=\"list_string\" doc=\"test\" />\n",
        "    </process>\n",
        "    \"\"\"\n",
        "    string = \"ALL FUNCTION PARAMETERS::\\n\\n\"\n",
        "    for input_parameter in (fname, directory, value, enum, list_of_str):\n",
        "        string += str(input_parameter)\n",
        "    return string\n",
        "\n"
       ]
      }
     ],
     "prompt_number": 3
    },
    {
     "cell_type": "markdown",
     "metadata": {},
     "source": [
      "This is a pure Python function with the Process description in the docstring between the &lt;process&gt;...&lt;/process&gt; tags. Inside those tags, each returned and input parameters are described in the function order. The parameters are typed and a description is asked in order to generate proper tooltips or documentations. The 'reference' output parameter is optional.<br><br>\n",
      "\n",
      "We can now create a Process from this Python function:"
     ]
    },
    {
     "cell_type": "code",
     "collapsed": false,
     "input": [
      "from capsul.api import get_process_instance\n",
      "\n",
      "funcprocess = get_process_instance(\"capsul.process.test.test_load_from_description.a_function_to_wrap\")\n",
      "funcprocess.help()"
     ],
     "language": "python",
     "metadata": {},
     "outputs": [
      {
       "output_type": "stream",
       "stream": "stdout",
       "text": [
        "\n",
        " A dummy fucntion that just print all its parameters.\n",
        "\n",
        "    <process>\n",
        "        <return name=\"string\" type=\"string\" doc=\"test\" />\n",
        "        <input name=\"fname\" type=\"file\" doc=\"test\" />\n",
        "        <input name=\"directory\" type=\"directory\" doc=\"test\" />\n",
        "        <input name=\"value\" type=\"float\" doc=\"test\" />\n",
        "        <input name=\"enum\" type=\"string\" doc=\"test\" />\n",
        "        <input name=\"list_of_str\" type=\"list_string\" doc=\"test\" />\n",
        "    </process>\n",
        "    \n",
        "    \n",
        "    .. note::\n",
        "    \n",
        "        * Type 'list_of_str.help()' for a full description of this process parameters.\n",
        "        * Type '<list_of_str>.get_input_spec()' for a full description of this process input trait types.\n",
        "        * Type '<list_of_str>.get_output_spec()' for a full description of this process output trait types.\n",
        "    \n",
        "\n",
        "Inputs\n",
        "~~~~~~\n",
        "\n",
        "[Mandatory]\n",
        "\n",
        "directory: a directory name (['Directory'] - mandatory)\n",
        "    test\n",
        "enum: a string (['String'] - mandatory)\n",
        "    test\n",
        "list_of_str: a legal value (['List_String'] - mandatory)\n",
        "    test\n",
        "value: a float (['Float'] - mandatory)\n",
        "    test\n",
        "fname: a file name (['File'] - mandatory)\n",
        "    test\n",
        "\n",
        "Outputs\n",
        "~~~~~~~\n",
        "\n",
        "string: a string\n",
        "    test\n",
        "\n"
       ]
      }
     ],
     "prompt_number": 6
    },
    {
     "cell_type": "markdown",
     "metadata": {},
     "source": [
      "We can modify some input parameters and execute the process:"
     ]
    },
    {
     "cell_type": "code",
     "collapsed": false,
     "input": [
      "funcprocess.list_of_str = [\"a\", \"b\"]\n",
      "funcprocess.value = 4.3\n",
      "funcprocess.enum = \"c\"\n",
      "result = funcprocess()\n",
      "print funcprocess.string\n",
      "# print funcprocess.reference"
     ],
     "language": "python",
     "metadata": {},
     "outputs": [
      {
       "output_type": "stream",
       "stream": "stdout",
       "text": [
        "ALL FUNCTION PARAMETERS::\n",
        "\n",
        "4.3c['a', 'b']\n"
       ]
      }
     ],
     "prompt_number": 10
    },
    {
     "cell_type": "markdown",
     "metadata": {},
     "source": [
      "<h2>Defining a Pipeline</h2>\n",
      "\n",
      "A Pipeline can be described from an xml file. For the documentation of the description glossary, please refere to the capsul documentation. In the following example we will use the 'xml_pipeline.xml' test description:"
     ]
    },
    {
     "cell_type": "code",
     "collapsed": false,
     "input": [
      "import os\n",
      "import capsul.process.test as test\n",
      "\n",
      "xmldesc = os.path.join(os.path.dirname(test.__file__), \"xml_pipeline.xml\")\n",
      "with open(xmldesc, \"r\") as openfile:\n",
      "    print \"\".join(openfile.readlines())"
     ],
     "language": "python",
     "metadata": {},
     "outputs": [
      {
       "output_type": "stream",
       "stream": "stdout",
       "text": [
        "<pipeline>\n",
        "    <doc>\n",
        "        Auto Generated Pipeline Test\n",
        "    </doc>\n",
        "    <process name=\"p1\"\n",
        "             module=\"capsul.process.test.test_load_from_description.a_function_to_wrap\">\n",
        "        <set name=\"list_of_str\" value=\"['test']\"/>\n",
        "    </process>\n",
        "    <process name=\"p2\"\n",
        "             module=\"capsul.process.test.test_load_from_description.a_function_to_wrap\"/>\n",
        "    <link source=\"p1.string\" dest=\"p2.fname\"/>\n",
        "    <link source=\"pdirectory\" dest=\"p2.directory\"/>\n",
        "    <link source=\"value\" dest=\"p2.value\"/>\n",
        "    <link source=\"enum\" dest=\"p2.enum\"/>\n",
        "    <link source=\"list_of_str\" dest=\"p2.list_of_str\"/>\n",
        "    <link source=\"value\" dest=\"p1.value\"/>\n",
        "    <link source=\"enum\" dest=\"p1.enum\"/>\n",
        "    <link source=\"list_of_str\" dest=\"p1.list_of_str\"/>\n",
        "    <link source=\"pdirectory\" dest=\"p1.directory\"/>\n",
        "    <link dest=\"out1\" source=\"p2.string\"/>\n",
        "    <gui>\n",
        "        <position process=\"inputs\" x=\"0\" y=\"0\"/>\n",
        "        <position process=\"p1\" x=\"200\" y=\"200\"/>\n",
        "        <position process=\"p2\" x=\"400\" y=\"-200\"/>\n",
        "        <position process=\"outputs\" x=\"600\" y=\"0\"/>\n",
        "        <zoom level=\"1\"/> \n",
        "    </gui>\n",
        "</pipeline>\n",
        "\n"
       ]
      }
     ],
     "prompt_number": 12
    },
    {
     "cell_type": "markdown",
     "metadata": {},
     "source": [
      "Two building blocks are connected in this example. We will soon have a graphical representation of the pipeline, which in turn will clarify the xml sections. But first we must create a Pipeline from this xml description:"
     ]
    },
    {
     "cell_type": "code",
     "collapsed": false,
     "input": [
      "from capsul.api import get_process_instance\n",
      "\n",
      "xmlpipe = get_process_instance(\"capsul.process.test.xml_pipeline\")\n",
      "xmlpipe.help()"
     ],
     "language": "python",
     "metadata": {},
     "outputs": [
      {
       "output_type": "stream",
       "stream": "stdout",
       "text": [
        "\n",
        "Auto Generated Pipeline Test\n",
        "\n",
        "Inputs\n",
        "~~~~~~\n",
        "\n",
        "[Mandatory]\n",
        "\n",
        "nodes_activation: a legal value (['ControllerTrait'] - mandatory)\n",
        "    No description.\n",
        "pdirectory: a directory name (['Directory'] - mandatory)\n",
        "    test\n",
        "enum: a string (['String'] - mandatory)\n",
        "    test\n",
        "list_of_str: a legal value (['List_String'] - mandatory)\n",
        "    test\n",
        "value: a float (['Float'] - mandatory)\n",
        "    test\n",
        "\n",
        "[Optional]\n",
        "\n",
        "output_directory: a directory name (['Directory'] - optional)\n",
        "    No description.\n",
        "\n",
        "Outputs\n",
        "~~~~~~~\n",
        "\n",
        "out1: a string\n",
        "    test\n",
        "\n"
       ]
      }
     ],
     "prompt_number": 16
    },
    {
     "cell_type": "markdown",
     "metadata": {},
     "source": [
      "One major advantage of the capsul pipeline system is to be able to represent graphically the processing sequence:"
     ]
    },
    {
     "cell_type": "code",
     "collapsed": false,
     "input": [
      "import sys\n",
      "from PyQt4 import QtGui\n",
      "from capsul.qt_gui.widgets import PipelineDevelopperView\n",
      "from soma.qt_gui.controller_widget import ControllerWidget\n",
      "\n",
      "app_created = False\n",
      "app = QtGui.QApplication.instance()\n",
      "if app is None:\n",
      "    app = QtGui.QApplication(sys.argv)\n",
      "    app_created = True\n",
      "view = PipelineDevelopperView(xmlpipe)\n",
      "controller = ControllerWidget(xmlpipe, live=True)\n",
      "view.show()\n",
      "controller.show()\n",
      "if app_created:\n",
      "    app.exec_()"
     ],
     "language": "python",
     "metadata": {},
     "outputs": [],
     "prompt_number": 17
    },
    {
     "cell_type": "markdown",
     "metadata": {},
     "source": [
      "<h2>A structure to switch between processings</h2>\n",
      "\n",
      "In Capsul it is possible to define a building block which aims to select a sequence of processings. It is done with a Switch building block as follows:\n",
      "\n"
     ]
    },
    {
     "cell_type": "code",
     "collapsed": false,
     "input": [
      "import os\n",
      "import capsul.process.test as test\n",
      "\n",
      "xmldesc = os.path.join(os.path.dirname(test.__file__), \"test_pipeline.xml\")\n",
      "with open(xmldesc, \"r\") as openfile:\n",
      "    print \"\".join(openfile.readlines())"
     ],
     "language": "python",
     "metadata": {},
     "outputs": [
      {
       "output_type": "stream",
       "stream": "stdout",
       "text": [
        "<pipeline capsul_xml=\"2.0\">\n",
        "    <process name=\"threshold_gt_1\" \n",
        "     module=\"capsul.process.test.test_load_from_description.threshold\">\n",
        "        <set name=\"threshold\" value=\"1\"/>\n",
        "        <set name=\"method\" value=\"'gt'\"/>\n",
        "    </process>\n",
        "    <process name=\"threshold_gt_10\" \n",
        "     module=\"capsul.process.test.test_load_from_description.threshold\">\n",
        "        <set name=\"threshold\" value=\"10\"/>\n",
        "        <set name=\"method\" value=\"'gt'\"/>\n",
        "    </process>\n",
        "    <process name=\"threshold_gt_100\" \n",
        "     module=\"capsul.process.test.test_load_from_description.threshold\">\n",
        "        <set name=\"threshold\" value=\"100\"/>\n",
        "        <set name=\"method\" value=\"'gt'\"/>\n",
        "    </process>\n",
        "    <process name=\"threshold_lt_1\" \n",
        "     module=\"capsul.process.test.test_load_from_description.threshold\">\n",
        "        <set name=\"threshold\" value=\"1\"/>\n",
        "        <set name=\"method\" value=\"'lt'\"/>\n",
        "    </process>\n",
        "    <process name=\"threshold_lt_10\" \n",
        "     module=\"capsul.process.test.test_load_from_description.threshold\">\n",
        "        <set name=\"threshold\" value=\"10\"/>\n",
        "        <set name=\"method\" value=\"'lt'\"/>\n",
        "    </process>\n",
        "    <process name=\"threshold_lt_100\" \n",
        "     module=\"capsul.process.test.test_load_from_description.threshold\">\n",
        "        <set name=\"threshold\" value=\"100\"/>\n",
        "        <set name=\"method\" value=\"'lt'\"/>\n",
        "    </process>\n",
        "    <process name=\"mask_1\" \n",
        "     module=\"capsul.process.test.test_load_from_description.mask\">\n",
        "    </process>\n",
        "    <process name=\"mask_10\" \n",
        "     module=\"capsul.process.test.test_load_from_description.mask\">\n",
        "    </process>\n",
        "    <process name=\"mask_100\" \n",
        "     module=\"capsul.process.test.test_load_from_description.mask\">\n",
        "    </process>\n",
        "\n",
        "    <link source=\"input_image\" dest=\"threshold_gt_1.input_image\"/>\n",
        "    <link source=\"input_image\" dest=\"threshold_gt_10.input_image\"/>\n",
        "    <link source=\"input_image\" dest=\"threshold_gt_100.input_image\"/>\n",
        "    \n",
        "    <link source=\"input_image\" dest=\"threshold_lt_1.input_image\"/>\n",
        "    <link source=\"input_image\" dest=\"threshold_lt_10.input_image\"/>\n",
        "    <link source=\"input_image\" dest=\"threshold_lt_100.input_image\"/>\n",
        "\n",
        "    <link source=\"input_image\" dest=\"mask_1.input_image\"/>\n",
        "    <link source=\"input_image\" dest=\"mask_10.input_image\"/>\n",
        "    <link source=\"input_image\" dest=\"mask_100.input_image\"/>\n",
        "\n",
        "    <link source=\"threshold_gt_1.output_image\" dest=\"mask_1.mask\"/>\n",
        "    <link source=\"threshold_gt_10.output_image\" dest=\"mask_10.mask\"/>\n",
        "    <link source=\"threshold_gt_100.output_image\" dest=\"mask_100.mask\"/>\n",
        "    <link source=\"threshold_lt_1.output_image\" dest=\"mask_1.mask\"/>\n",
        "    <link source=\"threshold_lt_10.output_image\" dest=\"mask_10.mask\"/>\n",
        "    <link source=\"threshold_lt_100.output_image\" dest=\"mask_100.mask\"/>\n",
        "\n",
        "    <link source=\"mask_1.output_image\" dest=\"output_1\"/>\n",
        "    <link source=\"mask_10.output_image\" dest=\"output_10\"/>\n",
        "    <link source=\"mask_100.output_image\" dest=\"output_100\"/>\n",
        "\n",
        "    <processes_selection name=\"select_method\">\n",
        "        <processes_group name=\"greater than\">\n",
        "            <process name=\"threshold_gt_1\"/>\n",
        "            <process name=\"threshold_gt_10\"/>\n",
        "            <process name=\"threshold_gt_100\"/>\n",
        "        </processes_group>\n",
        "        <processes_group name=\"lower than\">\n",
        "            <process name=\"threshold_lt_1\"/>\n",
        "            <process name=\"threshold_lt_10\"/>\n",
        "            <process name=\"threshold_lt_100\"/>\n",
        "        </processes_group>\n",
        "    </processes_selection>\n",
        "    \n",
        "    <gui>\n",
        "        <position name=\"threshold_gt_100\" x=\"386.0\" y=\"403.0\"/>\n",
        "        <position name=\"inputs\" x=\"50.0\" y=\"50.0\"/>\n",
        "        <position name=\"mask_1\" x=\"815.0\" y=\"153.0\"/>\n",
        "        <position name=\"threshold_gt_10\" x=\"374.0\" y=\"242.0\"/>\n",
        "        <position name=\"threshold_lt_100\" x=\"556.0\" y=\"314.0\"/>\n",
        "        <position name=\"threshold_gt_1\" x=\"371.0\" y=\"88.0\"/>\n",
        "        <position name=\"mask_10\" x=\"820.0\" y=\"293.0\"/>\n",
        "        <position name=\"mask_100\" x=\"826.0\" y=\"451.0\"/>\n",
        "        <position name=\"threshold_lt_1\" x=\"570.0\" y=\"6.0\"/>\n",
        "        <position name=\"threshold_lt_10\" x=\"568.0\" y=\"145.0\"/>\n",
        "\n",
        "        <!--\n",
        "        <position name=\"threshold_gt_100\" x=\"182.35615\" y=\"658.8043\">\n",
        "        <position name=\"mask_1\" x=\"348.3267625\" y=\"205.125\">\n",
        "        <position name=\"threshold_gt_10\" x=\"183.6139625\" y=\"329.3854\">\n",
        "        <position name=\"inputs\" x=\"0.0\" y=\"488.9169\">\n",
        "        <position name=\"outputs\" x=\"512.08755\" y=\"488.9169\">\n",
        "        <position name=\"mask_100\" x=\"348.3267625\" y=\"744.8167\">\n",
        "        <position name=\"threshold_lt_1\" x=\"183.6139625\" y=\"146.998\">\n",
        "        <position name=\"threshold_gt_1\" x=\"183.6139625\" y=\"0.0\">\n",
        "        <position name=\"threshold_lt_100\" x=\"183.6139625\" y=\"805.8291\">\n",
        "        <position name=\"mask_10\" x=\"348.3267625\" y=\"488.9169\">\n",
        "        <position name=\"threshold_lt_10\" x=\"183.6139625\" y=\"476.4169\">\n",
        "        -->\n",
        "    </gui>\n",
        "</pipeline>\n",
        "\n"
       ]
      }
     ],
     "prompt_number": 19
    },
    {
     "cell_type": "markdown",
     "metadata": {},
     "source": [
      "Again we can create a Pipeline from his xml description:"
     ]
    },
    {
     "cell_type": "code",
     "collapsed": false,
     "input": [
      "from capsul.api import get_process_instance\n",
      "\n",
      "xmlpipe = get_process_instance(\"capsul.process.test.test_pipeline\")\n",
      "xmlpipe.help()"
     ],
     "language": "python",
     "metadata": {},
     "outputs": [
      {
       "output_type": "stream",
       "stream": "stdout",
       "text": [
        "\n",
        "\n",
        "\n",
        ".. note::\n",
        "\n",
        "    * Type 'test_pipeline.help()' for a full description of this process parameters.\n",
        "    * Type '<test_pipeline>.get_input_spec()' for a full description of this process input trait types.\n",
        "    * Type '<test_pipeline>.get_output_spec()' for a full description of this process output trait types.\n",
        "\n",
        "\n",
        "Inputs\n",
        "~~~~~~\n",
        "\n",
        "[Mandatory]\n",
        "\n",
        "input_image: a file name (['File'] - mandatory)\n",
        "    Path of a NIFTI-1 image file.\n",
        "nodes_activation: a legal value (['ControllerTrait'] - mandatory)\n",
        "    No description.\n",
        "select_method: a legal value (['Enum'] - mandatory)\n",
        "    No description.\n",
        "\n",
        "[Optional]\n",
        "\n",
        "output_directory: a directory name (['Directory'] - optional)\n",
        "    No description.\n",
        "\n",
        "Outputs\n",
        "~~~~~~~\n",
        "\n",
        "output_10: a file name\n",
        "    Output file name.\n",
        "output_100: a file name\n",
        "    Output file name.\n",
        "output_1: a file name\n",
        "    Output file name.\n",
        "\n"
       ]
      }
     ],
     "prompt_number": 22
    },
    {
     "cell_type": "markdown",
     "metadata": {},
     "source": [
      "And generate his graphical representation:"
     ]
    },
    {
     "cell_type": "code",
     "collapsed": false,
     "input": [
      "import sys\n",
      "from PyQt4 import QtGui\n",
      "from capsul.qt_gui.widgets import PipelineDevelopperView\n",
      "from soma.qt_gui.controller_widget import ControllerWidget\n",
      "\n",
      "if \"app_created\" not in globals():\n",
      "    app_created = False\n",
      "app = QtGui.QApplication.instance()\n",
      "if app is None:\n",
      "    app = QtGui.QApplication(sys.argv)\n",
      "    app_created = True\n",
      "view = PipelineDevelopperView(xmlpipe)\n",
      "controller = ControllerWidget(xmlpipe, live=True)\n",
      "view.show()\n",
      "controller.show()\n",
      "if app_created:\n",
      "    app.exec_()"
     ],
     "language": "python",
     "metadata": {},
     "outputs": [],
     "prompt_number": 23
    },
    {
     "cell_type": "markdown",
     "metadata": {},
     "source": [
      "<h2>Use Nipype in Capsul</h2>\n",
      "\n",
      "It is possible to use all the nipype interfaces (FSL, SPM, FreeSurfer, ...) as building blocks in Capsul. This step requires nipype to be properly installed as well as the software we want to use. For instance if we want to perform a brain extraction with FSL we can simply write:"
     ]
    },
    {
     "cell_type": "code",
     "collapsed": false,
     "input": [
      "from capsul.api import get_process_instance\n",
      "\n",
      "betpipe = get_process_instance(\"nipype.interfaces.fsl.BET\")\n",
      "betpipe.get_help()\n",
      "betpipe.in_file=\"/tmp/capsul_demo/MNI152_T1_2mm.nii.gz\""
     ],
     "language": "python",
     "metadata": {},
     "outputs": [
      {
       "output_type": "stream",
       "stream": "stdout",
       "text": [
        "\n",
        " Base class used to wrap nipype interfaces.\n",
        "    \n",
        "\n",
        ".. note::\n",
        "\n",
        "    * Type 'NipypeProcess.help()' for a full description of this process parameters.\n",
        "    * Type '<NipypeProcess>.get_input_spec()' for a full description of this process input trait types.\n",
        "    * Type '<NipypeProcess>.get_output_spec()' for a full description of this process output trait types.\n",
        "\n",
        "\n",
        "Inputs\n",
        "~~~~~~\n",
        "\n",
        "[Mandatory]\n",
        "\n",
        "terminal_output: a legal value (['Enum'] - mandatory)\n",
        "    Control terminal output: `stream` - displays to terminal\n",
        "    immediately, `allatonce` - waits till command is finished to\n",
        "    display output, `file` - writes output to file, `none` - output is\n",
        "    ignored\n",
        "in_file: a file name (['File'] - mandatory)\n",
        "    input file to skull strip\n",
        "\n",
        "[Optional]\n",
        "\n",
        "remove_eyes: a boolean (['Bool'] - optional)\n",
        "    eye & optic nerve cleanup (can be useful in SIENA)\n",
        "no_output: a boolean (['Bool'] - optional)\n",
        "    Don't generate segmented output\n",
        "functional: a boolean (['Bool'] - optional)\n",
        "    apply to 4D fMRI data\n",
        "radius: an integer (['Int'] - optional)\n",
        "    head radius\n",
        "threshold: a boolean (['Bool'] - optional)\n",
        "    apply thresholding to segmented brain image and mask\n",
        "vertical_gradient: a float (['Float'] - optional)\n",
        "    vertical gradient in fractional intensity threshold (-1, 1)\n",
        "outline: a boolean (['Bool'] - optional)\n",
        "    create surface outline image\n",
        "t2_guided: a file name (['File'] - optional)\n",
        "    as with creating surfaces, when also feeding in non-brain-\n",
        "    extracted T2 (includes registrations)\n",
        "ignore_exception: a boolean (['Bool'] - optional)\n",
        "    Print an error message instead of throwing an exception in case\n",
        "    the interface fails to run\n",
        "surfaces: a boolean (['Bool'] - optional)\n",
        "    run bet2 and then betsurf to get additional skull and scalp\n",
        "    surfaces (includes registrations)\n",
        "frac: a float (['Float'] - optional)\n",
        "    fractional intensity threshold\n",
        "reduce_bias: a boolean (['Bool'] - optional)\n",
        "    bias field and neck cleanup\n",
        "args: a string (['Str'] - optional)\n",
        "    Additional parameters to the command\n",
        "output_directory: a directory name (['Directory'] - optional)\n",
        "    No description.\n",
        "padding: a boolean (['Bool'] - optional)\n",
        "    improve BET if FOV is very small in Z (by temporarily padding end\n",
        "    slices)\n",
        "mesh: a boolean (['Bool'] - optional)\n",
        "    generate a vtk mesh brain surface\n",
        "robust: a boolean (['Bool'] - optional)\n",
        "    robust brain centre estimation (iterates BET several times)\n",
        "out_file: a file name (['File'] - optional)\n",
        "    name of output skull stripped image\n",
        "center: a legal value (['List_Int'] - optional)\n",
        "    center of gravity in voxels\n",
        "skull: a boolean (['Bool'] - optional)\n",
        "    create skull image\n",
        "mask: a boolean (['Bool'] - optional)\n",
        "    create binary mask image\n",
        "environ: a legal value (['Dict_Str_Str'] - optional)\n",
        "    Environment variables\n",
        "output_type: a legal value (['Enum'] - optional)\n",
        "    FSL output type\n",
        "\n",
        "Outputs\n",
        "~~~~~~~\n",
        "\n",
        "_outskull_mesh_file: a file name\n",
        "    path/name of outskull mesh outline (if generated)\n",
        "_outskin_mesh_file: a file name\n",
        "    path/name of outskin mesh outline (if generated)\n",
        "_skull_mask_file: a file name\n",
        "    path/name of skull mask (if generated)\n",
        "_inskull_mask_file: a file name\n",
        "    path/name of inskull mask (if generated)\n",
        "_meshfile: a file name\n",
        "    path/name of vtk mesh file (if generated)\n",
        "_out_file: a file name\n",
        "    path/name of skullstripped file (if generated)\n",
        "_outline_file: a file name\n",
        "    path/name of outline file (if generated)\n",
        "_inskull_mesh_file: a file name\n",
        "    path/name of inskull mesh outline (if generated)\n",
        "_outskin_mask_file: a file name\n",
        "    path/name of outskin mask (if generated)\n",
        "_outskull_mask_file: a file name\n",
        "    path/name of outskull mask (if generated)\n",
        "_mask_file: a file name\n",
        "    path/name of binary brain mask (if generated)\n",
        "\n"
       ]
      },
      {
       "output_type": "stream",
       "stream": "stderr",
       "text": [
        "/usr/lib/python2.7/dist-packages/nipype/interfaces/fsl/base.py:118: UserWarning: FSL environment variables not set. setting output type to NIFTI\n",
        "  warnings.warn(('FSL environment variables not set. setting output '\n"
       ]
      }
     ],
     "prompt_number": 25
    },
    {
     "cell_type": "markdown",
     "metadata": {},
     "source": [
      "As shown it is possible to set the BET algorithm input parameters. Note that in capsul the standard nipype outputs are prefixed with underscores. We can execute this Process but unfortunatelly, as mentioned by the nipype warnings, FSL has not been configured and the BET algorithm will not run. The following section shows a simplified way to configure external softwares in Capsul."
     ]
    },
    {
     "cell_type": "markdown",
     "metadata": {},
     "source": [
      "<h2>A helper to configure state of the art medical softwares</h2>\n",
      "\n",
      "Capsul propose a module to configure external softwares:\n",
      "\n",
      "<ul style=\"list-style-type:disc;\">\n",
      "<li>FSL</li>\n",
      "<li>SPM</li>\n",
      "<li>FreeSurfer</li>\n",
      "<li>BrainVisa</li>\n",
      "</ul>\n",
      "\n",
      "With this module it is also possible to configure the execution of the pipeline:\n",
      "\n",
      "<ul style=\"list-style-type:disc;\">\n",
      "<li>Use smart caching</li>\n",
      "<li>Generate some logging</li>\n",
      "<li>Soma-Worflow to handle population imaging</li>\n",
      "</ul>\n",
      "\n",
      "Let show how to configure FSL:"
     ]
    },
    {
     "cell_type": "code",
     "collapsed": false,
     "input": [
      "from capsul.study_config import StudyConfig\n",
      "\n",
      "study_config = StudyConfig(\n",
      "    modules=[\"SmartCachingConfig\", \"FSLConfig\"],\n",
      "    fsl_config=\"/etc/fsl/4.1/fsl.sh\",\n",
      "    use_fsl=True,\n",
      "    use_smart_caching=True,\n",
      "    output_directory=\"/tmp/capsul_demo\")\n",
      "print study_config.run.__doc__"
     ],
     "language": "python",
     "metadata": {},
     "outputs": [
      {
       "output_type": "stream",
       "stream": "stdout",
       "text": [
        " Method to execute a process or a pipline in a study configuration\n",
        "         environment.\n",
        "\n",
        "         Only pipeline nodes can be filtered on the 'executer_qc_nodes'\n",
        "         attribute.\n",
        "\n",
        "         A valid output directory is exepcted to execute the process or the\n",
        "         pepeline without soma-workflow.\n",
        "\n",
        "        Parameters\n",
        "        ----------\n",
        "        process_or_pipeline: Process or Pipeline instance (mandatory)\n",
        "            the process or pipeline we want to execute\n",
        "        execute_qc_nodes: bool (optional, default False)\n",
        "            if True execute process nodes that are taged as qualtity control\n",
        "            process nodes.\n",
        "        verbose: int\n",
        "            if different from zero, print console messages.\n",
        "        \n"
       ]
      }
     ],
     "prompt_number": 26
    },
    {
     "cell_type": "markdown",
     "metadata": {},
     "source": [
      "<h2>Execution of the pipeline</h2>\n",
      "\n",
      "In this section a simple execution is performed on your machine using one CPU (if more than one CPU are used it means that the called external software is parallelized). We just have to call the StudyConfig run method:"
     ]
    },
    {
     "cell_type": "code",
     "collapsed": false,
     "input": [
      "study_config.reset_process_counter()\n",
      "study_config.run(betpipe, verbose=1)"
     ],
     "language": "python",
     "metadata": {},
     "outputs": [
      {
       "output_type": "stream",
       "stream": "stderr",
       "text": [
        "INFO:interface:stdout 2016-03-23T18:14:59.887722:\n"
       ]
      },
      {
       "output_type": "stream",
       "stream": "stderr",
       "text": [
        "INFO:interface:stdout 2016-03-23T18:14:59.887722:Error: input image /tmp/capsul_demo/MNI152_T1_2mm not valid\n"
       ]
      },
      {
       "output_type": "stream",
       "stream": "stderr",
       "text": [
        "INFO:interface:stdout 2016-03-23T18:14:59.887722:\n"
       ]
      },
      {
       "ename": "RuntimeError",
       "evalue": "Command:\nbet /tmp/capsul_demo/MNI152_T1_2mm.nii.gz /tmp/capsul_demo/1-BET/MNI152_T1_2mm_brain.nii\nStandard output:\n\nError: input image /tmp/capsul_demo/MNI152_T1_2mm not valid\n\nStandard error:\n\nReturn code: 1\nInterface BET failed to run. ",
       "output_type": "pyerr",
       "traceback": [
        "\u001b[0;31m---------------------------------------------------------------------------\u001b[0m\n\u001b[0;31mRuntimeError\u001b[0m                              Traceback (most recent call last)",
        "\u001b[0;32m<ipython-input-27-bf604932c31d>\u001b[0m in \u001b[0;36m<module>\u001b[0;34m()\u001b[0m\n\u001b[1;32m      1\u001b[0m \u001b[0mstudy_config\u001b[0m\u001b[0;34m.\u001b[0m\u001b[0mreset_process_counter\u001b[0m\u001b[0;34m(\u001b[0m\u001b[0;34m)\u001b[0m\u001b[0;34m\u001b[0m\u001b[0m\n\u001b[0;32m----> 2\u001b[0;31m \u001b[0mstudy_config\u001b[0m\u001b[0;34m.\u001b[0m\u001b[0mrun\u001b[0m\u001b[0;34m(\u001b[0m\u001b[0mbetpipe\u001b[0m\u001b[0;34m,\u001b[0m \u001b[0mverbose\u001b[0m\u001b[0;34m=\u001b[0m\u001b[0;36m1\u001b[0m\u001b[0;34m)\u001b[0m\u001b[0;34m\u001b[0m\u001b[0m\n\u001b[0m",
        "\u001b[0;32m/volatile/riviere/neurosvn/capsul/trunk/capsul/study_config/study_config.pyc\u001b[0m in \u001b[0;36mrun\u001b[0;34m(self, process_or_pipeline, executer_qc_nodes, verbose, **kwargs)\u001b[0m\n\u001b[1;32m    320\u001b[0m                 \u001b[0;31m# Execute the process instance\u001b[0m\u001b[0;34m\u001b[0m\u001b[0;34m\u001b[0m\u001b[0m\n\u001b[1;32m    321\u001b[0m                 \u001b[0;32melse\u001b[0m\u001b[0;34m:\u001b[0m\u001b[0;34m\u001b[0m\u001b[0m\n\u001b[0;32m--> 322\u001b[0;31m                     \u001b[0mself\u001b[0m\u001b[0;34m.\u001b[0m\u001b[0m_run\u001b[0m\u001b[0;34m(\u001b[0m\u001b[0mprocess_node\u001b[0m\u001b[0;34m,\u001b[0m \u001b[0mverbose\u001b[0m\u001b[0;34m,\u001b[0m \u001b[0;34m**\u001b[0m\u001b[0mkwargs\u001b[0m\u001b[0;34m)\u001b[0m\u001b[0;34m\u001b[0m\u001b[0m\n\u001b[0m\u001b[1;32m    323\u001b[0m \u001b[0;34m\u001b[0m\u001b[0m\n\u001b[1;32m    324\u001b[0m     \u001b[0;32mdef\u001b[0m \u001b[0m_run\u001b[0m\u001b[0;34m(\u001b[0m\u001b[0mself\u001b[0m\u001b[0;34m,\u001b[0m \u001b[0mprocess_instance\u001b[0m\u001b[0;34m,\u001b[0m \u001b[0mverbose\u001b[0m\u001b[0;34m,\u001b[0m \u001b[0;34m**\u001b[0m\u001b[0mkwargs\u001b[0m\u001b[0;34m)\u001b[0m\u001b[0;34m:\u001b[0m\u001b[0;34m\u001b[0m\u001b[0m\n",
        "\u001b[0;32m/volatile/riviere/neurosvn/capsul/trunk/capsul/study_config/study_config.pyc\u001b[0m in \u001b[0;36m_run\u001b[0;34m(self, process_instance, verbose, **kwargs)\u001b[0m\n\u001b[1;32m    349\u001b[0m             \u001b[0mcachedir\u001b[0m\u001b[0;34m,\u001b[0m\u001b[0;34m\u001b[0m\u001b[0m\n\u001b[1;32m    350\u001b[0m             \u001b[0mself\u001b[0m\u001b[0;34m.\u001b[0m\u001b[0mgenerate_logging\u001b[0m\u001b[0;34m,\u001b[0m\u001b[0;34m\u001b[0m\u001b[0m\n\u001b[0;32m--> 351\u001b[0;31m             **kwargs)\n\u001b[0m\u001b[1;32m    352\u001b[0m \u001b[0;34m\u001b[0m\u001b[0m\n\u001b[1;32m    353\u001b[0m         \u001b[0;31m# Increment the number of executed process count\u001b[0m\u001b[0;34m\u001b[0m\u001b[0;34m\u001b[0m\u001b[0m\n",
        "\u001b[0;32m/volatile/riviere/neurosvn/capsul/trunk/capsul/study_config/run.pyc\u001b[0m in \u001b[0;36mrun_process\u001b[0;34m(output_dir, process_instance, cachedir, generate_logging, verbose, **kwargs)\u001b[0m\n\u001b[1;32m     77\u001b[0m \u001b[0;34m\u001b[0m\u001b[0m\n\u001b[1;32m     78\u001b[0m     \u001b[0;31m# Execute the proxy process\u001b[0m\u001b[0;34m\u001b[0m\u001b[0;34m\u001b[0m\u001b[0m\n\u001b[0;32m---> 79\u001b[0;31m     \u001b[0mreturncode\u001b[0m \u001b[0;34m=\u001b[0m \u001b[0mproxy_instance\u001b[0m\u001b[0;34m(\u001b[0m\u001b[0;34m**\u001b[0m\u001b[0mkwargs\u001b[0m\u001b[0;34m)\u001b[0m\u001b[0;34m\u001b[0m\u001b[0m\n\u001b[0m\u001b[1;32m     80\u001b[0m \u001b[0;34m\u001b[0m\u001b[0m\n\u001b[1;32m     81\u001b[0m     \u001b[0;31m# Save the process log\u001b[0m\u001b[0;34m\u001b[0m\u001b[0;34m\u001b[0m\u001b[0m\n",
        "\u001b[0;32m/volatile/riviere/neurosvn/capsul/trunk/capsul/study_config/memory.pyc\u001b[0m in \u001b[0;36m__call__\u001b[0;34m(self, **kwargs)\u001b[0m\n\u001b[1;32m    264\u001b[0m             \u001b[0;32mtry\u001b[0m\u001b[0;34m:\u001b[0m\u001b[0;34m\u001b[0m\u001b[0m\n\u001b[1;32m    265\u001b[0m                 \u001b[0;31m# Run and update the process output traits\u001b[0m\u001b[0;34m\u001b[0m\u001b[0;34m\u001b[0m\u001b[0m\n\u001b[0;32m--> 266\u001b[0;31m                 \u001b[0mresult\u001b[0m \u001b[0;34m=\u001b[0m \u001b[0mself\u001b[0m\u001b[0;34m.\u001b[0m\u001b[0m_call_process\u001b[0m\u001b[0;34m(\u001b[0m\u001b[0mprocess_dir\u001b[0m\u001b[0;34m,\u001b[0m \u001b[0minput_parameters\u001b[0m\u001b[0;34m)\u001b[0m\u001b[0;34m\u001b[0m\u001b[0m\n\u001b[0m\u001b[1;32m    267\u001b[0m                 \u001b[0;32mfor\u001b[0m \u001b[0mname\u001b[0m\u001b[0;34m,\u001b[0m \u001b[0mvalue\u001b[0m \u001b[0;32min\u001b[0m \u001b[0mresult\u001b[0m\u001b[0;34m.\u001b[0m\u001b[0moutputs\u001b[0m\u001b[0;34m.\u001b[0m\u001b[0miteritems\u001b[0m\u001b[0;34m(\u001b[0m\u001b[0;34m)\u001b[0m\u001b[0;34m:\u001b[0m\u001b[0;34m\u001b[0m\u001b[0m\n\u001b[1;32m    268\u001b[0m                     \u001b[0mself\u001b[0m\u001b[0;34m.\u001b[0m\u001b[0mprocess\u001b[0m\u001b[0;34m.\u001b[0m\u001b[0mset_parameter\u001b[0m\u001b[0;34m(\u001b[0m\u001b[0mname\u001b[0m\u001b[0;34m,\u001b[0m \u001b[0mvalue\u001b[0m\u001b[0;34m)\u001b[0m\u001b[0;34m\u001b[0m\u001b[0m\n",
        "\u001b[0;32m/volatile/riviere/neurosvn/capsul/trunk/capsul/study_config/memory.pyc\u001b[0m in \u001b[0;36m_call_process\u001b[0;34m(self, process_dir, input_parameters)\u001b[0m\n\u001b[1;32m    368\u001b[0m \u001b[0;34m\u001b[0m\u001b[0m\n\u001b[1;32m    369\u001b[0m         \u001b[0;31m# Execute the process\u001b[0m\u001b[0;34m\u001b[0m\u001b[0;34m\u001b[0m\u001b[0m\n\u001b[0;32m--> 370\u001b[0;31m         \u001b[0mresult\u001b[0m \u001b[0;34m=\u001b[0m \u001b[0mself\u001b[0m\u001b[0;34m.\u001b[0m\u001b[0mprocess\u001b[0m\u001b[0;34m(\u001b[0m\u001b[0;34m)\u001b[0m\u001b[0;34m\u001b[0m\u001b[0m\n\u001b[0m\u001b[1;32m    371\u001b[0m         \u001b[0mduration\u001b[0m \u001b[0;34m=\u001b[0m \u001b[0mtime\u001b[0m\u001b[0;34m.\u001b[0m\u001b[0mtime\u001b[0m\u001b[0;34m(\u001b[0m\u001b[0;34m)\u001b[0m \u001b[0;34m-\u001b[0m \u001b[0mstart_time\u001b[0m\u001b[0;34m\u001b[0m\u001b[0m\n\u001b[1;32m    372\u001b[0m \u001b[0;34m\u001b[0m\u001b[0m\n",
        "\u001b[0;32m/volatile/riviere/neurosvn/capsul/trunk/capsul/process/process.pyc\u001b[0m in \u001b[0;36m__call__\u001b[0;34m(self, **kwargs)\u001b[0m\n\u001b[1;32m   1085\u001b[0m         \u001b[0;31m# Do nothing specific\u001b[0m\u001b[0;34m\u001b[0m\u001b[0;34m\u001b[0m\u001b[0m\n\u001b[1;32m   1086\u001b[0m         \u001b[0;32melse\u001b[0m\u001b[0;34m:\u001b[0m\u001b[0;34m\u001b[0m\u001b[0m\n\u001b[0;32m-> 1087\u001b[0;31m             \u001b[0mresults\u001b[0m \u001b[0;34m=\u001b[0m \u001b[0msuper\u001b[0m\u001b[0;34m(\u001b[0m\u001b[0mNipypeProcess\u001b[0m\u001b[0;34m,\u001b[0m \u001b[0mself\u001b[0m\u001b[0;34m)\u001b[0m\u001b[0;34m.\u001b[0m\u001b[0m__call__\u001b[0m\u001b[0;34m(\u001b[0m\u001b[0;34m**\u001b[0m\u001b[0mkwargs\u001b[0m\u001b[0;34m)\u001b[0m\u001b[0;34m\u001b[0m\u001b[0m\n\u001b[0m\u001b[1;32m   1088\u001b[0m \u001b[0;34m\u001b[0m\u001b[0m\n\u001b[1;32m   1089\u001b[0m         \u001b[0;31m# For spm, need to move the batch\u001b[0m\u001b[0;34m\u001b[0m\u001b[0;34m\u001b[0m\u001b[0m\n",
        "\u001b[0;32m/volatile/riviere/neurosvn/capsul/trunk/capsul/process/process.pyc\u001b[0m in \u001b[0;36m__call__\u001b[0;34m(self, **kwargs)\u001b[0m\n\u001b[1;32m    840\u001b[0m \u001b[0;34m\u001b[0m\u001b[0m\n\u001b[1;32m    841\u001b[0m             \u001b[0;31m# Inheritance\u001b[0m\u001b[0;34m\u001b[0m\u001b[0;34m\u001b[0m\u001b[0m\n\u001b[0;32m--> 842\u001b[0;31m             \u001b[0;32mreturn\u001b[0m \u001b[0msuper\u001b[0m\u001b[0;34m(\u001b[0m\u001b[0mFileCopyProcess\u001b[0m\u001b[0;34m,\u001b[0m \u001b[0mself\u001b[0m\u001b[0;34m)\u001b[0m\u001b[0;34m.\u001b[0m\u001b[0m__call__\u001b[0m\u001b[0;34m(\u001b[0m\u001b[0;34m**\u001b[0m\u001b[0mkwargs\u001b[0m\u001b[0;34m)\u001b[0m\u001b[0;34m\u001b[0m\u001b[0m\n\u001b[0m\u001b[1;32m    843\u001b[0m \u001b[0;34m\u001b[0m\u001b[0m\n\u001b[1;32m    844\u001b[0m     \u001b[0;32mdef\u001b[0m \u001b[0m_clean_workspace\u001b[0m\u001b[0;34m(\u001b[0m\u001b[0mself\u001b[0m\u001b[0;34m)\u001b[0m\u001b[0;34m:\u001b[0m\u001b[0;34m\u001b[0m\u001b[0m\n",
        "\u001b[0;32m/volatile/riviere/neurosvn/capsul/trunk/capsul/process/process.pyc\u001b[0m in \u001b[0;36m__call__\u001b[0;34m(self, **kwargs)\u001b[0m\n\u001b[1;32m    241\u001b[0m \u001b[0;34m\u001b[0m\u001b[0m\n\u001b[1;32m    242\u001b[0m         \u001b[0;31m# Execute the process\u001b[0m\u001b[0;34m\u001b[0m\u001b[0;34m\u001b[0m\u001b[0m\n\u001b[0;32m--> 243\u001b[0;31m         \u001b[0mreturncode\u001b[0m \u001b[0;34m=\u001b[0m \u001b[0mself\u001b[0m\u001b[0;34m.\u001b[0m\u001b[0m_run_process\u001b[0m\u001b[0;34m(\u001b[0m\u001b[0;34m)\u001b[0m\u001b[0;34m\u001b[0m\u001b[0m\n\u001b[0m\u001b[1;32m    244\u001b[0m \u001b[0;34m\u001b[0m\u001b[0m\n\u001b[1;32m    245\u001b[0m         \u001b[0;31m# Set the execution stop time in the execution report\u001b[0m\u001b[0;34m\u001b[0m\u001b[0;34m\u001b[0m\u001b[0m\n",
        "\u001b[0;32m/volatile/riviere/neurosvn/capsul/trunk/capsul/process/process.pyc\u001b[0m in \u001b[0;36m_run_process\u001b[0;34m(self)\u001b[0m\n\u001b[1;32m   1147\u001b[0m             \u001b[0mobject\u001b[0m \u001b[0mcontaining\u001b[0m \u001b[0mthe\u001b[0m \u001b[0mrunning\u001b[0m \u001b[0mresults\u001b[0m\u001b[0;34m\u001b[0m\u001b[0m\n\u001b[1;32m   1148\u001b[0m         \"\"\"\n\u001b[0;32m-> 1149\u001b[0;31m         \u001b[0;32mreturn\u001b[0m \u001b[0mself\u001b[0m\u001b[0;34m.\u001b[0m\u001b[0m_nipype_interface\u001b[0m\u001b[0;34m.\u001b[0m\u001b[0mrun\u001b[0m\u001b[0;34m(\u001b[0m\u001b[0;34m)\u001b[0m\u001b[0;34m\u001b[0m\u001b[0m\n\u001b[0m\u001b[1;32m   1150\u001b[0m \u001b[0;34m\u001b[0m\u001b[0m\n\u001b[1;32m   1151\u001b[0m     \u001b[0;34m@\u001b[0m\u001b[0mclassmethod\u001b[0m\u001b[0;34m\u001b[0m\u001b[0m\n",
        "\u001b[0;32m/usr/lib/python2.7/dist-packages/nipype/interfaces/base.pyc\u001b[0m in \u001b[0;36mrun\u001b[0;34m(self, **inputs)\u001b[0m\n\u001b[1;32m    996\u001b[0m                     \u001b[0mruntime\u001b[0m\u001b[0;34m.\u001b[0m\u001b[0menviron\u001b[0m\u001b[0;34m[\u001b[0m\u001b[0;34m'DISPLAY'\u001b[0m\u001b[0;34m]\u001b[0m \u001b[0;34m=\u001b[0m \u001b[0;34m':%s'\u001b[0m \u001b[0;34m%\u001b[0m \u001b[0mvdisplay_num\u001b[0m\u001b[0;34m\u001b[0m\u001b[0m\n\u001b[1;32m    997\u001b[0m \u001b[0;34m\u001b[0m\u001b[0m\n\u001b[0;32m--> 998\u001b[0;31m             \u001b[0mruntime\u001b[0m \u001b[0;34m=\u001b[0m \u001b[0mself\u001b[0m\u001b[0;34m.\u001b[0m\u001b[0m_run_interface\u001b[0m\u001b[0;34m(\u001b[0m\u001b[0mruntime\u001b[0m\u001b[0;34m)\u001b[0m\u001b[0;34m\u001b[0m\u001b[0m\n\u001b[0m\u001b[1;32m    999\u001b[0m \u001b[0;34m\u001b[0m\u001b[0m\n\u001b[1;32m   1000\u001b[0m             \u001b[0;32mif\u001b[0m \u001b[0mself\u001b[0m\u001b[0;34m.\u001b[0m\u001b[0m_redirect_x\u001b[0m\u001b[0;34m:\u001b[0m\u001b[0;34m\u001b[0m\u001b[0m\n",
        "\u001b[0;32m/volatile/riviere/neurosvn/capsul/trunk/capsul/process/nipype_process.pyc\u001b[0m in \u001b[0;36m_run_interface\u001b[0;34m(self, runtime)\u001b[0m\n\u001b[1;32m     81\u001b[0m         \"\"\"\n\u001b[1;32m     82\u001b[0m         \u001b[0mruntime\u001b[0m\u001b[0;34m.\u001b[0m\u001b[0mcwd\u001b[0m \u001b[0;34m=\u001b[0m \u001b[0mself\u001b[0m\u001b[0;34m.\u001b[0m\u001b[0minputs\u001b[0m\u001b[0;34m.\u001b[0m\u001b[0moutput_directory\u001b[0m\u001b[0;34m\u001b[0m\u001b[0m\n\u001b[0;32m---> 83\u001b[0;31m         \u001b[0;32mreturn\u001b[0m \u001b[0mself\u001b[0m\u001b[0;34m.\u001b[0m\u001b[0m_run_interface_core\u001b[0m\u001b[0;34m(\u001b[0m\u001b[0mruntime\u001b[0m\u001b[0;34m)\u001b[0m\u001b[0;34m\u001b[0m\u001b[0m\n\u001b[0m\u001b[1;32m     84\u001b[0m \u001b[0;34m\u001b[0m\u001b[0m\n\u001b[1;32m     85\u001b[0m     \u001b[0;32mdef\u001b[0m \u001b[0m_list_outputs\u001b[0m\u001b[0;34m(\u001b[0m\u001b[0mself\u001b[0m\u001b[0;34m)\u001b[0m\u001b[0;34m:\u001b[0m\u001b[0;34m\u001b[0m\u001b[0m\n",
        "\u001b[0;32m/usr/lib/python2.7/dist-packages/nipype/interfaces/fsl/preprocess.pyc\u001b[0m in \u001b[0;36m_run_interface\u001b[0;34m(self, runtime)\u001b[0m\n\u001b[1;32m    140\u001b[0m         \u001b[0;31m# in stderr and if it's set, then update the returncode\u001b[0m\u001b[0;34m\u001b[0m\u001b[0;34m\u001b[0m\u001b[0m\n\u001b[1;32m    141\u001b[0m         \u001b[0;31m# accordingly.\u001b[0m\u001b[0;34m\u001b[0m\u001b[0;34m\u001b[0m\u001b[0m\n\u001b[0;32m--> 142\u001b[0;31m         \u001b[0mruntime\u001b[0m \u001b[0;34m=\u001b[0m \u001b[0msuper\u001b[0m\u001b[0;34m(\u001b[0m\u001b[0mBET\u001b[0m\u001b[0;34m,\u001b[0m \u001b[0mself\u001b[0m\u001b[0;34m)\u001b[0m\u001b[0;34m.\u001b[0m\u001b[0m_run_interface\u001b[0m\u001b[0;34m(\u001b[0m\u001b[0mruntime\u001b[0m\u001b[0;34m)\u001b[0m\u001b[0;34m\u001b[0m\u001b[0m\n\u001b[0m\u001b[1;32m    143\u001b[0m         \u001b[0;32mif\u001b[0m \u001b[0mruntime\u001b[0m\u001b[0;34m.\u001b[0m\u001b[0mstderr\u001b[0m\u001b[0;34m:\u001b[0m\u001b[0;34m\u001b[0m\u001b[0m\n\u001b[1;32m    144\u001b[0m             \u001b[0mself\u001b[0m\u001b[0;34m.\u001b[0m\u001b[0mraise_exception\u001b[0m\u001b[0;34m(\u001b[0m\u001b[0mruntime\u001b[0m\u001b[0;34m)\u001b[0m\u001b[0;34m\u001b[0m\u001b[0m\n",
        "\u001b[0;32m/usr/lib/python2.7/dist-packages/nipype/interfaces/base.pyc\u001b[0m in \u001b[0;36m_run_interface\u001b[0;34m(self, runtime, correct_return_codes)\u001b[0m\n\u001b[1;32m   1445\u001b[0m         \u001b[0;32mif\u001b[0m \u001b[0mruntime\u001b[0m\u001b[0;34m.\u001b[0m\u001b[0mreturncode\u001b[0m \u001b[0;32mis\u001b[0m \u001b[0mNone\u001b[0m \u001b[0;32mor\u001b[0m\u001b[0;31m \u001b[0m\u001b[0;31m\\\u001b[0m\u001b[0;34m\u001b[0m\u001b[0m\n\u001b[1;32m   1446\u001b[0m                         \u001b[0mruntime\u001b[0m\u001b[0;34m.\u001b[0m\u001b[0mreturncode\u001b[0m \u001b[0;32mnot\u001b[0m \u001b[0;32min\u001b[0m \u001b[0mcorrect_return_codes\u001b[0m\u001b[0;34m:\u001b[0m\u001b[0;34m\u001b[0m\u001b[0m\n\u001b[0;32m-> 1447\u001b[0;31m             \u001b[0mself\u001b[0m\u001b[0;34m.\u001b[0m\u001b[0mraise_exception\u001b[0m\u001b[0;34m(\u001b[0m\u001b[0mruntime\u001b[0m\u001b[0;34m)\u001b[0m\u001b[0;34m\u001b[0m\u001b[0m\n\u001b[0m\u001b[1;32m   1448\u001b[0m \u001b[0;34m\u001b[0m\u001b[0m\n\u001b[1;32m   1449\u001b[0m         \u001b[0;32mreturn\u001b[0m \u001b[0mruntime\u001b[0m\u001b[0;34m\u001b[0m\u001b[0m\n",
        "\u001b[0;32m/usr/lib/python2.7/dist-packages/nipype/interfaces/base.pyc\u001b[0m in \u001b[0;36mraise_exception\u001b[0;34m(self, runtime)\u001b[0m\n\u001b[1;32m   1374\u001b[0m         \u001b[0mmessage\u001b[0m \u001b[0;34m+=\u001b[0m \u001b[0;34m\"Standard error:\\n\"\u001b[0m \u001b[0;34m+\u001b[0m \u001b[0mruntime\u001b[0m\u001b[0;34m.\u001b[0m\u001b[0mstderr\u001b[0m \u001b[0;34m+\u001b[0m \u001b[0;34m\"\\n\"\u001b[0m\u001b[0;34m\u001b[0m\u001b[0m\n\u001b[1;32m   1375\u001b[0m         \u001b[0mmessage\u001b[0m \u001b[0;34m+=\u001b[0m \u001b[0;34m\"Return code: \"\u001b[0m \u001b[0;34m+\u001b[0m \u001b[0mstr\u001b[0m\u001b[0;34m(\u001b[0m\u001b[0mruntime\u001b[0m\u001b[0;34m.\u001b[0m\u001b[0mreturncode\u001b[0m\u001b[0;34m)\u001b[0m\u001b[0;34m\u001b[0m\u001b[0m\n\u001b[0;32m-> 1376\u001b[0;31m         \u001b[0;32mraise\u001b[0m \u001b[0mRuntimeError\u001b[0m\u001b[0;34m(\u001b[0m\u001b[0mmessage\u001b[0m\u001b[0;34m)\u001b[0m\u001b[0;34m\u001b[0m\u001b[0m\n\u001b[0m\u001b[1;32m   1377\u001b[0m \u001b[0;34m\u001b[0m\u001b[0m\n\u001b[1;32m   1378\u001b[0m     \u001b[0;34m@\u001b[0m\u001b[0mclassmethod\u001b[0m\u001b[0;34m\u001b[0m\u001b[0m\n",
        "\u001b[0;31mRuntimeError\u001b[0m: Command:\nbet /tmp/capsul_demo/MNI152_T1_2mm.nii.gz /tmp/capsul_demo/1-BET/MNI152_T1_2mm_brain.nii\nStandard output:\n\nError: input image /tmp/capsul_demo/MNI152_T1_2mm not valid\n\nStandard error:\n\nReturn code: 1\nInterface BET failed to run. "
       ]
      },
      {
       "output_type": "stream",
       "stream": "stdout",
       "text": [
        "________________________________________________________________________________\n",
        "[Memory] Calling nipype.interfaces.fsl.preprocess.BET...\n",
        "nipype.interfaces.fsl.preprocess.BET(remove_eyes=False, no_output=False, functional=False, radius=0, threshold=False, surfaces=False, in_file=/tmp/capsul_demo/MNI152_T1_2mm.nii.gz, ignore_exception=False, vertical_gradient=0.0, frac=0.0, reduce_bias=False, args=, output_directory=/tmp/capsul_demo/1-BET, padding=False, mesh=False, robust=False, outline=False, center=[], skull=False, mask=False, terminal_output=stream, environ={}, output_type=NIFTI_PAIR)\n"
       ]
      }
     ],
     "prompt_number": 27
    },
    {
     "cell_type": "markdown",
     "metadata": {},
     "source": [
      "<h2>Distributed execution top handle population imaging</h2>\n",
      "\n",
      "Capsul can execute a pipeline through Soma-Workflow in order to address huge datasets in the case of population imaging studies. But this functionality is out of the scope of this tuto."
     ]
    }
   ],
   "metadata": {}
  }
 ]
}