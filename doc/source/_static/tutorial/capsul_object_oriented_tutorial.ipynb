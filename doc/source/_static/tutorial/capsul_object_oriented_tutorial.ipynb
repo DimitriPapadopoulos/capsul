{
 "metadata": {
  "name": "capsul_object_oriented_tutorial",
  "signature": "sha256:81158edd9d37521824801beb2fe9ff34770f57d8626ccd549bb0ac33e4ef2df9"
 },
 "nbformat": 3,
 "nbformat_minor": 0,
 "worksheets": [
  {
   "cells": [
    {
     "cell_type": "markdown",
     "metadata": {},
     "source": "<h1>Capsul: Collaborative Analysis Platform : Simple, Unifying, Lean</h1>\n\n<p>Capsul is a simple and efficient Python tool that aims to organize a set of processings.\nIt is accessible to everybody, and is reusable in various contexts.\nThe project is hosted on github: https://github.com/neurospin/capsul.</p>\n\n<p>Documentation: <a href=\"http://neurospin.github.io/capsul\">http://neurospin.github.io/capsul</a>\n</p>\n\n<p>The following examples are using CAPSUL, and PyQt (or PySide). To get the GUI running in a non-blocking way, the IPython notebook should be started with the option <tt>--gui=qt</tt>:\n<pre>ipython notebook --gui=qt</pre>\nOtherwise calls to the Qt loop will be blocking until windows are closed at each demo step.\n</p>\n\n<p>\n<big>Definitions</big>\n\n<ul style=\"list-style-type:disc;\">\n<li>A <b>Process</b> is a processing that can derived directly from a Python function and that can be used as a building block of a pipeline.</li>\n<li>A <b>Pipeline</b> is a serie of connected processes.</li>\n</ul>\n</p>\n\n<p>\n<big>First check</big>\n\nIn order to test if capsul is installed on your machine, you can ask the the Capsul version:\n</p>\n"
    },
    {
     "cell_type": "code",
     "collapsed": false,
     "input": "import capsul\nprint capsul.__version__",
     "language": "python",
     "metadata": {},
     "outputs": [
      {
       "output_type": "stream",
       "stream": "stdout",
       "text": "2.1.0\n"
      }
     ],
     "prompt_number": 1
    },
    {
     "cell_type": "markdown",
     "metadata": {},
     "source": "<h1>Process and pipeline creation API</h1>\n\nA process can be either a Process class instance, or a wrapping of a function\n\n<h2>Process and parameters</h2>"
    },
    {
     "cell_type": "code",
     "collapsed": false,
     "input": "# Capsul import\nfrom capsul.api import Process\n\n# Trait import\nfrom traits.api import Float\n\nclass Process1(Process):\n    f = Float(output=False)\n\n    def __init__(self):\n        super(Process1, self).__init__()\n        self.add_trait(\"ff\", Float(output=False))\n        self.add_trait(\"out\", Float(output=True))\n        \n    def _run_process(self):\n        self.out = self.f + self.ff\n        print 'Process1 execution, f:', self.f, ', ff:', self.ff\n\nprocess = Process1()\nprint process.user_traits().keys()\n\nprocess.ff = 132.6\nprocess.f = 13.3\n\n#execution\nprocess()\nprint 'Process result =', process.out",
     "language": "python",
     "metadata": {},
     "outputs": [
      {
       "output_type": "stream",
       "stream": "stdout",
       "text": "['f', 'ff', 'out']\nProcess1 execution, f: 13.3 , ff: 132.6\nProcess result = 145.9\n"
      }
     ],
     "prompt_number": 2
    },
    {
     "cell_type": "code",
     "collapsed": false,
     "input": "from traits.api import Str\n\nclass Process2(Process):\n    \n    def __init__(self):\n        super(Process2, self).__init__()\n        self.add_trait(\"a\", Float(output=True))\n        self.add_trait(\"b\", Str(output=False))\n        \n    def _run_process(self):\n        print \"Process2 execution, a:\", self.a, \", b:\", self.b",
     "language": "python",
     "metadata": {},
     "outputs": [],
     "prompt_number": 3
    },
    {
     "cell_type": "markdown",
     "metadata": {},
     "source": "<h2>Use a function as a building block</h2>\n\nIt is possible to convert a function in Process and thus use it as a building block of a pipeline. In the following example we will use an addition simple Python function:\n"
    },
    {
     "cell_type": "code",
     "collapsed": false,
     "input": "from capsul.process.xml import xml_process\nfrom capsul.api import get_process_instance\n\n@xml_process('''\n<process capsul_xml=\"2.0\">\n    <input name=\"a\" type=\"int\" doc=\"An integer\"/>\n    <input name=\"b\" type=\"int\" doc=\"Another integer\"/>\n    <return name=\"addition\" type=\"int\" doc=\"a + b\"/>\n</process>\n''')\ndef add(a, b):\n     return a + b",
     "language": "python",
     "metadata": {},
     "outputs": [],
     "prompt_number": 4
    },
    {
     "cell_type": "markdown",
     "metadata": {},
     "source": "<p>This is a pure Python function with an XML Process description in the @xml_process decorator. Inside <code>&lt;process&gt;</code> and <code>&lt;/process&gt;</code> elements, each input parameters are described as well as the returned value. The parameters are typed and a description is asked in order to generate proper tooltips or documentations.</p>\n\n<p>We can now create a Process from this Python function:</p>"
    },
    {
     "cell_type": "code",
     "collapsed": false,
     "input": "from capsul.api import get_process_instance\n\nprocess = get_process_instance('__main__.add')\n",
     "language": "python",
     "metadata": {},
     "outputs": [],
     "prompt_number": 5
    },
    {
     "cell_type": "markdown",
     "metadata": {},
     "source": "We can set some input parameters and execute the process:"
    },
    {
     "cell_type": "code",
     "collapsed": false,
     "input": "process.a = 40\nprocess.b = 2\nprocess()\nprint process.a, '+', process.b, '=', process.addition\n",
     "language": "python",
     "metadata": {},
     "outputs": [
      {
       "output_type": "stream",
       "stream": "stdout",
       "text": "40 + 2 = 42\n"
      }
     ],
     "prompt_number": 6
    },
    {
     "cell_type": "markdown",
     "metadata": {},
     "source": "<h2>Pipeline</h2>\n\n<p>A pipeline uses processes, or sub-pipelines, in order to define a full processing chain, with links between building blocks. A pipeline may be defined either using the Python API, as a Pipeline subclass, or using a XML definition file.\n</p>\n\n<h3>Pipeline API</h3>"
    },
    {
     "cell_type": "code",
     "collapsed": false,
     "input": "from capsul.api import Pipeline\n\nclass Pipeline1(Pipeline):\n\n    def pipeline_definition(self):\n        # Create processes\n        self.add_process(\"node1\", Process1())\n        self.add_process(\"node2\", Process2())\n        \npipeline1 = Pipeline1()",
     "language": "python",
     "metadata": {},
     "outputs": [],
     "prompt_number": 7
    },
    {
     "cell_type": "markdown",
     "metadata": {},
     "source": "<h3>Viewing / debugging a pipeline</h3>\n<h4>Pipeline structure</h4>"
    },
    {
     "cell_type": "code",
     "collapsed": false,
     "input": "import sys\n# note that the qt backend may be either PyQt4 or PySide.\nfrom soma.qt_gui import qt_backend\nqt_backend.set_qt_backend('PyQt4')\nfrom soma.qt_gui.qt_backend import QtGui\nfrom capsul.qt_gui.widgets import PipelineDevelopperView\n\n# here we determine whether the Qt GUI is already running or not.\nrun_qt_loop = False\nif QtGui.QApplication.instance() is None:\n    app = QtGui.QApplication(sys.argv)\n    run_qt_loop = True\nelse:\n    app = QtGui.QApplication.instance()\n# in the following we will reuse this run_qt_loop variable for simplicity\n\n# now the real thing for pipeline viewing    \nview1 = PipelineDevelopperView(pipeline1)\nview1.show()\n\nif run_qt_loop:\n    print 'close window to gon on...'\n    app.exec_()",
     "language": "python",
     "metadata": {},
     "outputs": [],
     "prompt_number": 8
    },
    {
     "cell_type": "heading",
     "level": 4,
     "metadata": {},
     "source": "Entering parameters"
    },
    {
     "cell_type": "code",
     "collapsed": false,
     "input": "from soma.qt_gui.controller_widget import ControllerWidget\n\ncontroller1 = ControllerWidget(pipeline1, live=True)\ncontroller1.show()\ncontroller2 = ControllerWidget(pipeline1, live=True)\ncontroller2.show()\nif run_qt_loop:\n    app.exec_()",
     "language": "python",
     "metadata": {},
     "outputs": [],
     "prompt_number": 9
    },
    {
     "cell_type": "heading",
     "level": 3,
     "metadata": {},
     "source": "Links and exportations"
    },
    {
     "cell_type": "code",
     "collapsed": false,
     "input": "class Pipeline2(Pipeline):\n\n    def pipeline_definition(self):\n        # Create processes\n        self.add_process(\"node1\", Process1())\n        self.add_process(\"node2\", Process2())\n        # links\n        self.add_link('node2.a->node1.ff')\n        # custom exports\n        self.export_parameter(\"node2\", \"b\", \"node_string\")",
     "language": "python",
     "metadata": {},
     "outputs": [],
     "prompt_number": 10
    },
    {
     "cell_type": "code",
     "collapsed": false,
     "input": "pipeline2 = Pipeline2()\nview2 = PipelineDevelopperView(pipeline2)\nview2.show()\nif run_qt_loop:\n    app.exec_()",
     "language": "python",
     "metadata": {},
     "outputs": [],
     "prompt_number": 11
    },
    {
     "cell_type": "code",
     "collapsed": false,
     "input": "pipeline2.f = 13.2\npipeline2.node_string = \"blop\"\npipeline2()",
     "language": "python",
     "metadata": {},
     "outputs": [
      {
       "output_type": "stream",
       "stream": "stdout",
       "text": "Process2 execution, a: 0.0 , b: blop\nProcess1 execution, f: 13.2 , ff: 0.0\n"
      },
      {
       "metadata": {},
       "output_type": "pyout",
       "prompt_number": 12,
       "text": "<capsul.process.process.ProcessResult at 0x7f268e4b4490>"
      }
     ],
     "prompt_number": 12
    },
    {
     "cell_type": "markdown",
     "metadata": {},
     "source": "<h3>Defining a Pipeline from XML a file</h3>\n\nA Pipeline can be described from an xml file. For the documentation of the description glossary, please refere to the capsul documentation. In the following example we will use the 'xml_pipeline.xml' test description:"
    },
    {
     "cell_type": "code",
     "collapsed": false,
     "input": "import os\nimport capsul.process.test as test\n\nxmldesc = os.path.join(os.path.dirname(test.__file__), \"xml_pipeline.xml\")\nwith open(xmldesc, \"r\") as openfile:\n    print \"\".join(openfile.readlines())",
     "language": "python",
     "metadata": {},
     "outputs": [
      {
       "output_type": "stream",
       "stream": "stdout",
       "text": "<pipeline>\n    <doc>\n        Auto Generated Pipeline Test\n    </doc>\n    <process name=\"p1\"\n             module=\"capsul.process.test.test_load_from_description.a_function_to_wrap\">\n        <set name=\"list_of_str\" value=\"['test']\"/>\n    </process>\n    <process name=\"p2\"\n             module=\"capsul.process.test.test_load_from_description.a_function_to_wrap\"/>\n    <link source=\"p1.string\" dest=\"p2.fname\"/>\n    <link source=\"pdirectory\" dest=\"p2.directory\"/>\n    <link source=\"value\" dest=\"p2.value\"/>\n    <link source=\"enum\" dest=\"p2.enum\"/>\n    <link source=\"list_of_str\" dest=\"p2.list_of_str\"/>\n    <link source=\"value\" dest=\"p1.value\"/>\n    <link source=\"enum\" dest=\"p1.enum\"/>\n    <link source=\"fname\" dest=\"p1.fname\"/>\n    <link source=\"list_of_str\" dest=\"p1.list_of_str\"/>\n    <link source=\"pdirectory\" dest=\"p1.directory\"/>\n    <link dest=\"out1\" source=\"p2.string\"/>\n    <gui>\n        <position name=\"inputs\" x=\"0\" y=\"0\"/>\n        <position name=\"p1\" x=\"200\" y=\"200\"/>\n        <position name=\"p2\" x=\"400\" y=\"-200\"/>\n        <position name=\"outputs\" x=\"600\" y=\"0\"/>\n        <zoom level=\"1\"/> \n    </gui>\n</pipeline>\n\n"
      }
     ],
     "prompt_number": 13
    },
    {
     "cell_type": "markdown",
     "metadata": {},
     "source": "Two building blocks are connected in this example. We will soon have a graphical representation of the pipeline, which in turn will clarify the xml sections. But first we must create a Pipeline from this xml description:"
    },
    {
     "cell_type": "code",
     "collapsed": false,
     "input": "from capsul.api import get_process_instance\n\nxmlpipe = get_process_instance(\"capsul.process.test.xml_pipeline\")\nxmlpipe.help()",
     "language": "python",
     "metadata": {},
     "outputs": [
      {
       "output_type": "stream",
       "stream": "stdout",
       "text": "\nAuto Generated Pipeline Test\n\nInputs\n~~~~~~\n\n[Mandatory]\n\nenum: a string (['String'] - mandatory)\n    test\npdirectory: a directory name (['Directory'] - mandatory)\n    test\nvalue: a float (['Float'] - mandatory)\n    test\nlist_of_str: a legal value (['List_String'] - mandatory)\n    test\nfname: a file name (['File'] - mandatory)\n    test\nnodes_activation: a legal value (['ControllerTrait'] - mandatory)\n    No description.\n\nOutputs\n~~~~~~~\n\nout1: a string\n    test\n\n"
      }
     ],
     "prompt_number": 14
    },
    {
     "cell_type": "markdown",
     "metadata": {},
     "source": "One major advantage of the capsul pipeline system is to be able to represent graphically the processing sequence:"
    },
    {
     "cell_type": "code",
     "collapsed": false,
     "input": "import sys\nfrom soma.qt_gui.qt_backend import QtGui\nfrom capsul.qt_gui.widgets import PipelineDevelopperView\nfrom soma.qt_gui.controller_widget import ControllerWidget\n\nview = PipelineDevelopperView(xmlpipe)\ncontroller = ControllerWidget(xmlpipe, live=True)\nview.show()\ncontroller.show()\nif run_qt_loop:\n    app.exec_()",
     "language": "python",
     "metadata": {},
     "outputs": [],
     "prompt_number": 15
    },
    {
     "cell_type": "markdown",
     "metadata": {},
     "source": "<h2>Switches</h2>\n\nIn Capsul it is possible to define a building block which aims to select a sequence of processings. It is done with a Switch building block as follows:\n\n<h3>Using the Python API</h3>"
    },
    {
     "cell_type": "code",
     "collapsed": false,
     "input": "class Pipeline3(Pipeline):\n    \n    def pipeline_definition(self):\n        # Create processes\n        self.add_process(\"node1\", Process1())\n        self.add_process(\"node2\", Process2())\n        self.add_switch(\"switch\", [\"case1\", \"case2\"], [\"output\"])\n        #links\n        self.add_link(\"node1.out->switch.case1_switch_output\")\n        self.add_link(\"node2.a->switch.case2_switch_output\")",
     "language": "python",
     "metadata": {},
     "outputs": [],
     "prompt_number": 16
    },
    {
     "cell_type": "code",
     "collapsed": false,
     "input": "pipeline3 = Pipeline3()\nview3 = PipelineDevelopperView(pipeline3, allow_open_controller=True, show_sub_pipelines=True)\nview3.show()\nif run_qt_loop:\n    app.exec_()",
     "language": "python",
     "metadata": {},
     "outputs": [],
     "prompt_number": 17
    },
    {
     "cell_type": "code",
     "collapsed": false,
     "input": "pipeline3.switch = \"case2\"\nview3.show()\nif run_qt_loop:\n    app.exec_()",
     "language": "python",
     "metadata": {},
     "outputs": [],
     "prompt_number": 18
    },
    {
     "cell_type": "code",
     "collapsed": false,
     "input": "pipeline3()",
     "language": "python",
     "metadata": {},
     "outputs": [
      {
       "output_type": "stream",
       "stream": "stdout",
       "text": "Process2 execution, a: 0.0 , b: <undefined>\n"
      },
      {
       "metadata": {},
       "output_type": "pyout",
       "prompt_number": 19,
       "text": "<capsul.process.process.ProcessResult at 0x7f268e4c0f10>"
      }
     ],
     "prompt_number": 19
    },
    {
     "cell_type": "markdown",
     "metadata": {},
     "source": "<h3>Using XML definition</h3>"
    },
    {
     "cell_type": "code",
     "collapsed": false,
     "input": "import os\nimport capsul.process.test as test\n\nxmldesc = os.path.join(os.path.dirname(test.__file__), \"test_pipeline.xml\")\nwith open(xmldesc, \"r\") as openfile:\n    print \"\".join(openfile.readlines())",
     "language": "python",
     "metadata": {},
     "outputs": [
      {
       "output_type": "stream",
       "stream": "stdout",
       "text": "<pipeline capsul_xml=\"2.0\">\n    <process name=\"threshold_gt_1\" \n     module=\"capsul.process.test.test_load_from_description.threshold\">\n        <set name=\"threshold\" value=\"1\"/>\n        <set name=\"method\" value=\"'gt'\"/>\n    </process>\n    <process name=\"threshold_gt_10\" \n     module=\"capsul.process.test.test_load_from_description.threshold\">\n        <set name=\"threshold\" value=\"10\"/>\n        <set name=\"method\" value=\"'gt'\"/>\n    </process>\n    <process name=\"threshold_gt_100\" \n     module=\"capsul.process.test.test_load_from_description.threshold\">\n        <set name=\"threshold\" value=\"100\"/>\n        <set name=\"method\" value=\"'gt'\"/>\n    </process>\n    <process name=\"threshold_lt_1\" \n     module=\"capsul.process.test.test_load_from_description.threshold\">\n        <set name=\"threshold\" value=\"1\"/>\n        <set name=\"method\" value=\"'lt'\"/>\n    </process>\n    <process name=\"threshold_lt_10\" \n     module=\"capsul.process.test.test_load_from_description.threshold\">\n        <set name=\"threshold\" value=\"10\"/>\n        <set name=\"method\" value=\"'lt'\"/>\n    </process>\n    <process name=\"threshold_lt_100\" \n     module=\"capsul.process.test.test_load_from_description.threshold\">\n        <set name=\"threshold\" value=\"100\"/>\n        <set name=\"method\" value=\"'lt'\"/>\n    </process>\n    <process name=\"mask_1\" \n     module=\"capsul.process.test.test_load_from_description.mask\">\n    </process>\n    <process name=\"mask_10\" \n     module=\"capsul.process.test.test_load_from_description.mask\">\n    </process>\n    <process name=\"mask_100\" \n     module=\"capsul.process.test.test_load_from_description.mask\">\n    </process>\n\n    <link source=\"input_image\" dest=\"threshold_gt_1.input_image\"/>\n    <link source=\"input_image\" dest=\"threshold_gt_10.input_image\"/>\n    <link source=\"input_image\" dest=\"threshold_gt_100.input_image\"/>\n    \n    <link source=\"input_image\" dest=\"threshold_lt_1.input_image\"/>\n    <link source=\"input_image\" dest=\"threshold_lt_10.input_image\"/>\n    <link source=\"input_image\" dest=\"threshold_lt_100.input_image\"/>\n\n    <link source=\"input_image\" dest=\"mask_1.input_image\"/>\n    <link source=\"input_image\" dest=\"mask_10.input_image\"/>\n    <link source=\"input_image\" dest=\"mask_100.input_image\"/>\n\n    <link source=\"threshold_gt_1.output_image\" dest=\"mask_1.mask\"/>\n    <link source=\"threshold_gt_10.output_image\" dest=\"mask_10.mask\"/>\n    <link source=\"threshold_gt_100.output_image\" dest=\"mask_100.mask\"/>\n    <link source=\"threshold_lt_1.output_image\" dest=\"mask_1.mask\"/>\n    <link source=\"threshold_lt_10.output_image\" dest=\"mask_10.mask\"/>\n    <link source=\"threshold_lt_100.output_image\" dest=\"mask_100.mask\"/>\n\n    <link source=\"mask_1.output_image\" dest=\"output_1\"/>\n    <link source=\"mask_10.output_image\" dest=\"output_10\"/>\n    <link source=\"mask_100.output_image\" dest=\"output_100\"/>\n\n    <processes_selection name=\"select_method\">\n        <processes_group name=\"greater than\">\n            <process name=\"threshold_gt_1\"/>\n            <process name=\"threshold_gt_10\"/>\n            <process name=\"threshold_gt_100\"/>\n        </processes_group>\n        <processes_group name=\"lower than\">\n            <process name=\"threshold_lt_1\"/>\n            <process name=\"threshold_lt_10\"/>\n            <process name=\"threshold_lt_100\"/>\n        </processes_group>\n    </processes_selection>\n    \n    <gui>\n        <position name=\"threshold_gt_100\" x=\"386.0\" y=\"403.0\"/>\n        <position name=\"inputs\" x=\"50.0\" y=\"50.0\"/>\n        <position name=\"mask_1\" x=\"815.0\" y=\"153.0\"/>\n        <position name=\"threshold_gt_10\" x=\"374.0\" y=\"242.0\"/>\n        <position name=\"threshold_lt_100\" x=\"556.0\" y=\"314.0\"/>\n        <position name=\"threshold_gt_1\" x=\"371.0\" y=\"88.0\"/>\n        <position name=\"mask_10\" x=\"820.0\" y=\"293.0\"/>\n        <position name=\"mask_100\" x=\"826.0\" y=\"451.0\"/>\n        <position name=\"threshold_lt_1\" x=\"570.0\" y=\"6.0\"/>\n        <position name=\"threshold_lt_10\" x=\"568.0\" y=\"145.0\"/>\n\n        <!--\n        <position name=\"threshold_gt_100\" x=\"182.35615\" y=\"658.8043\">\n        <position name=\"mask_1\" x=\"348.3267625\" y=\"205.125\">\n        <position name=\"threshold_gt_10\" x=\"183.6139625\" y=\"329.3854\">\n        <position name=\"inputs\" x=\"0.0\" y=\"488.9169\">\n        <position name=\"outputs\" x=\"512.08755\" y=\"488.9169\">\n        <position name=\"mask_100\" x=\"348.3267625\" y=\"744.8167\">\n        <position name=\"threshold_lt_1\" x=\"183.6139625\" y=\"146.998\">\n        <position name=\"threshold_gt_1\" x=\"183.6139625\" y=\"0.0\">\n        <position name=\"threshold_lt_100\" x=\"183.6139625\" y=\"805.8291\">\n        <position name=\"mask_10\" x=\"348.3267625\" y=\"488.9169\">\n        <position name=\"threshold_lt_10\" x=\"183.6139625\" y=\"476.4169\">\n        -->\n    </gui>\n</pipeline>\n\n"
      }
     ],
     "prompt_number": 20
    },
    {
     "cell_type": "markdown",
     "metadata": {},
     "source": "Again we can create a Pipeline from his xml description:"
    },
    {
     "cell_type": "code",
     "collapsed": false,
     "input": "from capsul.api import get_process_instance\n\nxmlpipe = get_process_instance(\"capsul.process.test.test_pipeline\")\nxmlpipe.help()",
     "language": "python",
     "metadata": {},
     "outputs": [
      {
       "output_type": "stream",
       "stream": "stdout",
       "text": "\n\n\n.. note::\n\n    * Type 'test_pipeline.help()' for a full description of this process parameters.\n    * Type '<test_pipeline>.get_input_spec()' for a full description of this process input trait types.\n    * Type '<test_pipeline>.get_output_spec()' for a full description of this process output trait types.\n\n\nInputs\n~~~~~~\n\n[Mandatory]\n\ninput_image: a file name (['File'] - mandatory)\n    Path of a NIFTI-1 image file.\nnodes_activation: a legal value (['ControllerTrait'] - mandatory)\n    No description.\nselect_method: a legal value (['Enum'] - mandatory)\n    No description.\n\nOutputs\n~~~~~~~\n\noutput_10: a file name\n    Output file name.\noutput_100: a file name\n    Output file name.\noutput_1: a file name\n    Output file name.\n\n"
      }
     ],
     "prompt_number": 21
    },
    {
     "cell_type": "markdown",
     "metadata": {},
     "source": "And generate its graphical representation:"
    },
    {
     "cell_type": "code",
     "collapsed": false,
     "input": "import sys\nfrom soma.qt_gui.qt_backend import QtGui\nfrom capsul.qt_gui.widgets import PipelineDevelopperView\nfrom soma.qt_gui.controller_widget import ControllerWidget\n\nview = PipelineDevelopperView(xmlpipe)\ncontroller = ControllerWidget(xmlpipe, live=True)\nview.show()\ncontroller.show()\nif run_qt_loop:\n    app.exec_()\n",
     "language": "python",
     "metadata": {},
     "outputs": [
      {
       "output_type": "stream",
       "stream": "stdout",
       "text": "pos:\n{'threshold_gt_100': (163.09886, 679.3264), 'mask_1': (358.47386, 220.19100000000014), 'threshold_gt_10': (163.09886, 339.6766000000001), 'threshold_gt_1': (163.09886, 0.0), 'outputs': (515.41756, 512.3512000000001), 'mask_100': (358.47386, 775.7014), 'threshold_lt_1': (163.09886, 151.6880000000001), 'threshold_lt_100': (163.09886, 831.0077000000001), 'inputs': (0.0, 526.3512000000001), 'mask_10': (358.47386, 512.3512000000001), 'threshold_lt_10': (163.09886, 491.35120000000006)}\n"
      }
     ],
     "prompt_number": 24
    },
    {
     "cell_type": "markdown",
     "metadata": {},
     "source": "<h1>StudyConfig</h1>\n\n<p>StudyConfig is a placeholder for study-wide parameters, settings, paths and so on. It is a modular confifuration tool, which has modules to configure some external software.\n</p>\n\n<h2>A helper to configure state of the art medical softwares</h2>\n\nCapsul propose a module to configure external softwares:\n\n<ul style=\"list-style-type:disc;\">\n<li>FSL</li>\n<li>SPM</li>\n<li>FreeSurfer</li>\n<li>BrainVisa</li>\n</ul>\n\nWith this module it is also possible to configure the execution of the pipeline:\n\n<ul style=\"list-style-type:disc;\">\n<li>Use smart caching</li>\n<li>Generate some logging</li>\n<li>Soma-Worflow to handle population imaging</li>\n</ul>\n\nFor instance:"
    },
    {
     "cell_type": "code",
     "collapsed": false,
     "input": "from capsul.api import StudyConfig\n# optional config modules\nfrom capsul.study_config.config_modules.freesurfer_config import FreeSurferConfig\nfrom capsul.study_config.config_modules.brainvisa_config import BrainVISAConfig\n\ndefault_config = {\"use_soma_workflow\": True}\nstudy_config = StudyConfig(initial_config=default_config, \n                           modules=StudyConfig.default_modules + \\\n                           ['BrainVISAConfig', 'FSLConfig', 'FomConfig'])\n\n# inspect config options\nfor k in study_config.user_traits().keys(): print k, ':  ', getattr(study_config, k)",
     "language": "python",
     "metadata": {},
     "outputs": [
      {
       "output_type": "stream",
       "stream": "stdout",
       "text": "create_output_directories :   True\ngenerate_logging :   False\ninput_directory :   <undefined>\noutput_directory :   <undefined>\nstudy_name :   None\nfsl_config :   <undefined>\nuse_fsl :   False\nmatlab_exec :   <undefined>\nuse_matlab :   False\nuse_smart_caching :   False\nuse_soma_workflow :   False\nsomaworkflow_computing_resource :   <undefined>\nsomaworkflow_computing_resources_config :   <soma.controller.controller.OpenKeyController object at 0x7f268a909bf0>\nspm_standalone :   False\nspm_directory :   <undefined>\nspm_exec :   <undefined>\nuse_spm :   False\nshared_directory :   /volatile/riviere/brainvisa/build-trunk-release/share/brainvisa-share-4.6\ninput_fom :   \noutput_fom :   \nshared_fom :   \nvolumes_format :   <undefined>\nmeshes_format :   <undefined>\nuse_fom :   True\n"
      }
     ],
     "prompt_number": 26
    },
    {
     "cell_type": "markdown",
     "metadata": {},
     "source": "Let show how to configure FSL:"
    },
    {
     "cell_type": "code",
     "collapsed": false,
     "input": "from capsul.api import StudyConfig\n\nstudy_config = StudyConfig(\n    modules=[\"SmartCachingConfig\", \"FSLConfig\"],\n    fsl_config=\"/etc/fsl/5.0/fsl.sh\",\n    use_fsl=True,\n    use_smart_caching=True,\n    output_directory=\"/tmp/capsul_demo\")\nprint study_config.run.__doc__",
     "language": "python",
     "metadata": {},
     "outputs": [
      {
       "output_type": "stream",
       "stream": "stdout",
       "text": "Method to execute a process or a pipline in a study configuration\n         environment.\n\n         Only pipeline nodes can be filtered on the 'executer_qc_nodes'\n         attribute.\n\n         A valid output directory is exepcted to execute the process or the\n         pepeline without soma-workflow.\n\n        Parameters\n        ----------\n        process_or_pipeline: Process or Pipeline instance (mandatory)\n            the process or pipeline we want to execute\n        output_directory: Directory name (optional)\n            the output directory to use for process execution. This replaces\n            self.output_directory but left it unchanged.\n        execute_qc_nodes: bool (optional, default False)\n            if True execute process nodes that are taged as qualtity control\n            process nodes.\n        verbose: int\n            if different from zero, print console messages.\n        \n"
      }
     ],
     "prompt_number": 28
    },
    {
     "cell_type": "markdown",
     "metadata": {},
     "source": "<h2>Execution of the pipeline</h2>\n\nIn this section a simple execution is performed on your machine using one CPU (if more than one CPU are used it means that the called external software is parallelized). We just have to call the StudyConfig run method:"
    },
    {
     "cell_type": "code",
     "collapsed": false,
     "input": "study_config.reset_process_counter()\nstudy_config.run(pipeline2, verbose=1)",
     "language": "python",
     "metadata": {},
     "outputs": [
      {
       "output_type": "stream",
       "stream": "stdout",
       "text": "Process2 execution, a: 0.0 , b: blop\nProcess1 execution, f: 13.2 , ff: 0.0\n"
      },
      {
       "metadata": {},
       "output_type": "pyout",
       "prompt_number": 29,
       "text": "<capsul.process.process.ProcessResult at 0x7f268a8fb990>"
      }
     ],
     "prompt_number": 29
    },
    {
     "cell_type": "markdown",
     "metadata": {},
     "source": "<h1>Distributed execution using Soma-Workflow</h1>\n\nCapsul can execute a pipeline through <a href=\"http://brainvisa.info/soma-workflow/\">Soma-Workflow</a> in order to address large parallelized pipelines, or huge datasets in the case of population imaging studies."
    },
    {
     "cell_type": "code",
     "collapsed": false,
     "input": "from capsul.pipeline.pipeline_workflow import workflow_from_pipeline\n\nworkflow = workflow_from_pipeline(pipeline2)\nprint 'jobs:', workflow.jobs\nprint 'dependencies:', workflow.dependencies",
     "language": "python",
     "metadata": {},
     "outputs": [
      {
       "output_type": "stream",
       "stream": "stdout",
       "text": "jobs: [<soma_workflow.client_types.Job object at 0x7f268a895050>, <soma_workflow.client_types.Job object at 0x7f268a8fba10>]\ndependencies: set([(<soma_workflow.client_types.Job object at 0x7f268a895050>, <soma_workflow.client_types.Job object at 0x7f268a8fba10>)])\n"
      }
     ],
     "prompt_number": 30
    },
    {
     "cell_type": "markdown",
     "metadata": {},
     "source": "The workwlow can be saved and reloaded in soma_workflow_gui, or used in a <a href=\"http://www.brainvisa.info/doc/soma-workflow/sphinx/client_API.html\">soma-workflow controller</a>:"
    },
    {
     "cell_type": "code",
     "collapsed": false,
     "input": "from soma_workflow import client as swclient\n\n# save workflow to disk in json format\nswclient.Helper.serialize('/tmp/pipeline2.workflow', workflow)\n\n# run locally via a workflow controller\nwc = swclient.WorkflowController()\nwf_id = wc.submit_workflow(workflow)\nswclient.Helper.wait_workflow(wf_id, wc)\nprint 'execution status:', wc.workflow_status(wf_id)\nwc.delete_workflow(wf_id)",
     "language": "python",
     "metadata": {},
     "outputs": [
      {
       "output_type": "stream",
       "stream": "stdout",
       "text": "execution status: workflow_done\n"
      },
      {
       "metadata": {},
       "output_type": "pyout",
       "prompt_number": 31,
       "text": "True"
      }
     ],
     "prompt_number": 31
    },
    {
     "cell_type": "markdown",
     "metadata": {},
     "source": "<h1>Parameters completion using FOM (File Organization Model)</h1>\n\nFOMs allow to complete file names in large pipelines with many parameters from a small set of attributes. To illustrate this feature, we will first create a pipeline with several such parameters, from a XML description."
    },
    {
     "cell_type": "code",
     "collapsed": false,
     "input": "from capsul.pipeline.xml import create_xml_pipeline\n\nxmlstr = '''<pipeline capsul_xml=\"2.0\">\n        <process name=\"proc1\"\n            module=\"capsul.pipeline.test.test_pipeline.DummyProcess\">\n        </process>\n        <process name=\"proc2\"\n            module=\"capsul.pipeline.test.test_pipeline.DummyProcess\">\n        </process>\n        <process name=\"proc3\"\n            module=\"capsul.pipeline.test.test_pipeline.DummyProcess\">\n        </process>\n        <process name=\"proc4\"\n            module=\"capsul.pipeline.test.test_pipeline.DummyProcess\">\n        </process>\n        <switch name=\"proc_select\" switch_value=\"proc1\">\n            <input name=\"proc1\"/>\n            <input name=\"proc2\"/>\n            <output name=\"image\"/>\n        </switch>\n        <switch name=\"proc_select2\" switch_value=\"proc3\">\n            <input name=\"proc3\"/>\n            <input name=\"proc4\"/>\n            <output name=\"image\"/>\n        </switch>\n        <link source=\"input_image1\" dest=\"proc1.input_image\"/>\n        <link source=\"input_image2\" dest=\"proc2.input_image\"/>\n        <link source=\"proc_select\" dest=\"proc_select.switch\"/>\n        <link source=\"proc_select2\" dest=\"proc_select2.switch\"/>\n        <link source=\"input_image4\" dest=\"proc4.input_image\"/>\n        <link source=\"input_image3\" dest=\"proc3.input_image\"/>\n        \n        <link dest=\"image_out1\" source=\"proc_select.image\" weak_link=\"true\"/>\n        <link dest=\"image_out3\" source=\"proc3.output_image\" weak_link=\"true\"/>\n        <link dest=\"image_out5\" source=\"proc_select2.image\" weak_link=\"true\"/>\n\n        <link source=\"input_image1\" dest=\"proc1.input_image\"></link>\n        <link source=\"input_image2\" dest=\"proc2.input_image\"></link>\n        <link source=\"proc_select\" dest=\"proc_select.switch\"></link>\n        <link source=\"proc_select2\" dest=\"proc_select2.switch\"></link>\n        <link source=\"input_image4\" dest=\"proc4.input_image\"></link>\n        <link source=\"input_image3\" dest=\"proc3.input_image\"></link>\n        <link source=\"proc1.output_image\" dest=\"proc_select.proc1_switch_image\"></link>\n        <link source=\"proc2.output_image\" dest=\"proc_select.proc2_switch_image\"></link>\n        <link source=\"proc3.output_image\" dest=\"proc_select2.proc3_switch_image\"></link>\n        <link source=\"proc4.output_image\" dest=\"proc_select2.proc4_switch_image\"></link>\n    <gui>\n        <position name=\"inputs\" x=\"-151.0\" y=\"227.4447\"></position>\n        <position name=\"proc_select\" x=\"381.6498\" y=\"160.1012\"></position>\n        <position name=\"outputs\" x=\"668.1498\" y=\"319.9886\"></position>\n        <position name=\"proc_select2\" x=\"381.6498\" y=\"507.1947\"></position>\n        <position name=\"proc4\" x=\"144.2624\" y=\"589.7949\"></position>\n        <position name=\"proc1\" x=\"123.2624\" y=\"-4.0\"></position>\n        <position name=\"proc3\" x=\"146.2624\" y=\"391.9886\"></position>\n        <position name=\"proc2\" x=\"132.2624\" y=\"171.8197\"></position>\n    </gui>\n</pipeline>'''\n\nDemoPipeline = create_xml_pipeline('__main__', 'DemoPipeline', xmlstr)\npipeline = DemoPipeline()",
     "language": "python",
     "metadata": {},
     "outputs": [],
     "prompt_number": 32
    },
    {
     "cell_type": "code",
     "collapsed": false,
     "input": "from capsul.qt_gui.widgets import PipelineDevelopperView\n\npv = PipelineDevelopperView(pipeline, allow_open_controller=True, show_sub_pipelines=True)\npv.show()\n\nif run_qt_loop:\n    app.exec_()\n",
     "language": "python",
     "metadata": {},
     "outputs": [],
     "prompt_number": 33
    },
    {
     "cell_type": "heading",
     "level": 2,
     "metadata": {},
     "source": "FOM definition"
    },
    {
     "cell_type": "code",
     "collapsed": false,
     "input": "fom_content = '''{\n    \"fom_name\": \"demo_fom\",\n\n    \"formats\": {\n        \"NIFTI\": \"nii\",\n        \"NIFTI gz\": \"nii.gz\"\n    },\n    \"format_lists\": {\n        \"images\": [\"NIFTI gz\", \"NIFTI\"]\n    },\n\n    \"shared_patterns\": {\n      \"subject_dir\": \"<center>_<subject>\"\n    },\n\n    \"processes\": {\n        \"DemoPipeline\": {\n            \"input_image1\": \n                [[\"input:<center>_<subject>/<subject>\", \"images\"]],\n            \"input_image2\":\n                [[\"input:{subject_dir}/alt2_<subject>\", \"images\"]],\n            \"input_image3\":\n                [[\"input:{subject_dir}/alt2_<subject>\", \"images\"]],\n            \"input_image4\":\n                [[\"input:{subject_dir}/alt4_<subject>\", \"images\"]],\n            \"image_out1\":\n                [[\"output:{subject_dir}/out_image_<subject>_1\", \"images\"]],\n            \"image_out3\":\n                [[\"output:{subject_dir}/out_image_<subject>_3\", \"images\"]]\n        },\n        \"DemoPipeline.proc4\": {\n            \"output_image\": [[\"output:{subject_dir}/out_image_<subject>_4\", \"images\"]]\n        }\n    }\n\n}\n'''\n\nopen('/tmp/demo_fom.json', 'w').write(fom_content)\n",
     "language": "python",
     "metadata": {},
     "outputs": [],
     "prompt_number": 34
    },
    {
     "cell_type": "heading",
     "level": 2,
     "metadata": {},
     "source": "File names completion using FOM"
    },
    {
     "cell_type": "code",
     "collapsed": false,
     "input": "import sys\nimport os\nfrom capsul.api import StudyConfig\nfrom capsul.process import process_with_fom\nfrom soma.qt_gui.controller_widget import ScrollControllerWidget\n\n# the following 4 lines are a hack to add /tmp to the FOM search path\n# before it is used by StudyConfig\nfrom soma.application import Application\nsoma_app = Application('capsul', plugin_modules=['soma.fom'])\nsoma_app.initialize()\nsoma_app.fom_manager.paths.append('/tmp')\n\nconfig = {\n  \"name\" : \"morphologist_fom\",\n  \"input_directory\" : \"/data/capsul_demo\",\n  \"output_directory\" : \"/data/capsul_demo\",\n  \"input_fom\" : \"demo_fom\",\n  \"output_fom\" : \"demo_fom\",\n  \"use_soma_workflow\" : True,\n  \"use_fom\" : True,\n  \"volumes_format\" : \"nii.gz\",\n  \"meshes_format\" : \"gii\",\n}\n\ndef callback():\n    pf.attributes = dict((k,getattr(pf,k)) for k in pf.user_traits())\n    pf.create_completion()\n    \n\nstudy_config = StudyConfig(init_config=config, modules=StudyConfig.default_modules + ['FomConfig', 'BrainVISAConfig'])\nsoma_app.fom_manager._cache = None # while debugging\n\nmp = DemoPipeline()\n\npf = process_with_fom.ProcessWithFom(mp, study_config)\npf.on_trait_change(callback)\npf.center = 'subjects'\npf.subject = 'irm2'\n\npf_view = ScrollControllerWidget(pf, live=True)\npf_view.show()\np_view = ScrollControllerWidget(pf.process, live=True)\np_view.show()\n\npv = PipelineDevelopperView(mp, allow_open_controller=True, show_sub_pipelines=True)\npv.show()\n\nif run_qt_loop:\n  app.exec_()\n",
     "language": "python",
     "metadata": {},
     "outputs": [],
     "prompt_number": 36
    },
    {
     "cell_type": "markdown",
     "metadata": {},
     "source": "<p>Note how the output <tt>\"image_out5\"</tt> depends on the <b>proc_select2</b> switch value:</p>\n<p>While <tt>\"image_out1\"</tt> is fixed via the FOM completion, its value \"back-propagates\" to both <tt>\"proc1.output_image\"</tt> and <tt>\"proc2.output_image\"</tt>. For <tt>\"image_out5\"</tt> the FOM does not impose its value, it is deduced from either <tt>\"proc3.output_image\"</tt> (in turn set via the global <tt>\"image_out3\"</tt>) or <tt>\"proc4.output_image\"</tt>, depending on the <b>proc_select2</b> swtch value.</p>"
    },
    {
     "cell_type": "code",
     "collapsed": false,
     "input": "mp.proc_select2 = \"proc3\"\nprint \"switch proc_select2 value:\", mp.proc_select2\nprint \"output image_out5:\", mp.image_out5\nmp.proc_select2 = \"proc4\"\nprint \"switch proc_select2 value:\", mp.proc_select2\nprint \"output image_out5:\", mp.image_out5",
     "language": "python",
     "metadata": {},
     "outputs": []
    },
    {
     "cell_type": "markdown",
     "metadata": {},
     "source": "<h2>Use Nipype in Capsul</h2>\n\nIt is possible to use all the nipype interfaces (FSL, SPM, FreeSurfer, ...) as building blocks in Capsul. This step requires nipype to be properly installed as well as the software we want to use. For instance if we want to perform a brain extraction with FSL we can simply write:"
    },
    {
     "cell_type": "code",
     "collapsed": false,
     "input": "from capsul.api import get_process_instance\n\nbetpipe = get_process_instance(\"nipype.interfaces.fsl.BET\")\nbetpipe.get_help()\nbetpipe.in_file=\"/tmp/MNI152_T1_2mm.nii.gz\"",
     "language": "python",
     "metadata": {},
     "outputs": []
    },
    {
     "cell_type": "markdown",
     "metadata": {},
     "source": "As shown it is possible to set the BET algorithm input parameters. Note that in capsul the standard nipype outputs are prefixed with underscores. We can execute this Process but unfortunatelly, as mentioned by the nipype warnings, FSL needs to be configured in the study confit, otherwise the pipeline will not run. As we have done it above, we can run it:"
    },
    {
     "cell_type": "code",
     "collapsed": false,
     "input": "study_config.reset_process_counter()\nstudy_config.run(betpipe, verbose=1)",
     "language": "python",
     "metadata": {},
     "outputs": []
    },
    {
     "cell_type": "code",
     "collapsed": false,
     "input": "",
     "language": "python",
     "metadata": {},
     "outputs": []
    }
   ],
   "metadata": {}
  }
 ]
}